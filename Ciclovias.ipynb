{
 "cells": [
  {
   "cell_type": "markdown",
   "metadata": {},
   "source": [
    "# API transito Gobierno de la ciudad \n",
    "### EcoBici"
   ]
  },
  {
   "cell_type": "code",
   "execution_count": 110,
   "metadata": {},
   "outputs": [],
   "source": [
    "import pandas as pd\n",
    "import requests\n",
    "from pandas import json_normalize\n",
    "from folium.plugins import HeatMap"
   ]
  },
  {
   "cell_type": "code",
   "execution_count": 3,
   "metadata": {},
   "outputs": [],
   "source": [
    "#Coneccion API con credenciales\n",
    "r_client_id='4e9305db6bcb451293f0f2e992b198f6'\n",
    "r_client_secret='ef1b9BcF2b434A39930Bcd943a8AbE0F'"
   ]
  },
  {
   "cell_type": "code",
   "execution_count": 43,
   "metadata": {},
   "outputs": [],
   "source": [
    "#URL de conexion\n",
    "api = 'https://apitransporte.buenosaires.gob.ar/ecobici/gbfs/stationInformation?'"
   ]
  },
  {
   "cell_type": "code",
   "execution_count": 44,
   "metadata": {},
   "outputs": [],
   "source": [
    "request = requests.get(api,\n",
    "                      params={\n",
    "                          'client_id': r_client_id,\n",
    "                          'client_secret': r_client_secret}\n",
    "                      )"
   ]
  },
  {
   "cell_type": "code",
   "execution_count": 45,
   "metadata": {},
   "outputs": [
    {
     "data": {
      "text/plain": [
       "200"
      ]
     },
     "execution_count": 45,
     "metadata": {},
     "output_type": "execute_result"
    }
   ],
   "source": [
    "request.status_code"
   ]
  },
  {
   "cell_type": "code",
   "execution_count": 46,
   "metadata": {},
   "outputs": [
    {
     "data": {
      "text/plain": [
       "requests.models.Response"
      ]
     },
     "execution_count": 46,
     "metadata": {},
     "output_type": "execute_result"
    }
   ],
   "source": [
    "type(request)"
   ]
  },
  {
   "cell_type": "code",
   "execution_count": 47,
   "metadata": {
    "scrolled": true
   },
   "outputs": [],
   "source": [
    "json = request.json()"
   ]
  },
  {
   "cell_type": "code",
   "execution_count": 48,
   "metadata": {},
   "outputs": [
    {
     "data": {
      "text/plain": [
       "dict"
      ]
     },
     "execution_count": 48,
     "metadata": {},
     "output_type": "execute_result"
    }
   ],
   "source": [
    "type(json)"
   ]
  },
  {
   "cell_type": "code",
   "execution_count": 49,
   "metadata": {},
   "outputs": [],
   "source": [
    "data = json.get('data')"
   ]
  },
  {
   "cell_type": "code",
   "execution_count": 50,
   "metadata": {},
   "outputs": [
    {
     "data": {
      "text/html": [
       "<div>\n",
       "<style scoped>\n",
       "    .dataframe tbody tr th:only-of-type {\n",
       "        vertical-align: middle;\n",
       "    }\n",
       "\n",
       "    .dataframe tbody tr th {\n",
       "        vertical-align: top;\n",
       "    }\n",
       "\n",
       "    .dataframe thead th {\n",
       "        text-align: right;\n",
       "    }\n",
       "</style>\n",
       "<table border=\"1\" class=\"dataframe\">\n",
       "  <thead>\n",
       "    <tr style=\"text-align: right;\">\n",
       "      <th></th>\n",
       "      <th>stations</th>\n",
       "    </tr>\n",
       "  </thead>\n",
       "  <tbody>\n",
       "    <tr>\n",
       "      <th>0</th>\n",
       "      <td>{'station_id': '2', 'name': '002 - Retiro I', ...</td>\n",
       "    </tr>\n",
       "    <tr>\n",
       "      <th>1</th>\n",
       "      <td>{'station_id': '3', 'name': '003 - ADUANA', 'p...</td>\n",
       "    </tr>\n",
       "    <tr>\n",
       "      <th>2</th>\n",
       "      <td>{'station_id': '4', 'name': '004 - Plaza Roma'...</td>\n",
       "    </tr>\n",
       "    <tr>\n",
       "      <th>3</th>\n",
       "      <td>{'station_id': '5', 'name': '005 - Plaza Itali...</td>\n",
       "    </tr>\n",
       "    <tr>\n",
       "      <th>4</th>\n",
       "      <td>{'station_id': '6', 'name': '006 - Parque Leza...</td>\n",
       "    </tr>\n",
       "  </tbody>\n",
       "</table>\n",
       "</div>"
      ],
      "text/plain": [
       "                                            stations\n",
       "0  {'station_id': '2', 'name': '002 - Retiro I', ...\n",
       "1  {'station_id': '3', 'name': '003 - ADUANA', 'p...\n",
       "2  {'station_id': '4', 'name': '004 - Plaza Roma'...\n",
       "3  {'station_id': '5', 'name': '005 - Plaza Itali...\n",
       "4  {'station_id': '6', 'name': '006 - Parque Leza..."
      ]
     },
     "execution_count": 50,
     "metadata": {},
     "output_type": "execute_result"
    }
   ],
   "source": [
    "df = pd.DataFrame(data)\n",
    "df.head()"
   ]
  },
  {
   "cell_type": "code",
   "execution_count": 51,
   "metadata": {},
   "outputs": [],
   "source": [
    "df = json_normalize(df['stations'])"
   ]
  },
  {
   "cell_type": "code",
   "execution_count": 52,
   "metadata": {},
   "outputs": [
    {
     "data": {
      "text/html": [
       "<div>\n",
       "<style scoped>\n",
       "    .dataframe tbody tr th:only-of-type {\n",
       "        vertical-align: middle;\n",
       "    }\n",
       "\n",
       "    .dataframe tbody tr th {\n",
       "        vertical-align: top;\n",
       "    }\n",
       "\n",
       "    .dataframe thead th {\n",
       "        text-align: right;\n",
       "    }\n",
       "</style>\n",
       "<table border=\"1\" class=\"dataframe\">\n",
       "  <thead>\n",
       "    <tr style=\"text-align: right;\">\n",
       "      <th></th>\n",
       "      <th>station_id</th>\n",
       "      <th>name</th>\n",
       "      <th>physical_configuration</th>\n",
       "      <th>lat</th>\n",
       "      <th>lon</th>\n",
       "      <th>altitude</th>\n",
       "      <th>address</th>\n",
       "      <th>post_code</th>\n",
       "      <th>capacity</th>\n",
       "      <th>rental_methods</th>\n",
       "      <th>groups</th>\n",
       "      <th>obcn</th>\n",
       "      <th>nearby_distance</th>\n",
       "      <th>cross_street</th>\n",
       "    </tr>\n",
       "  </thead>\n",
       "  <tbody>\n",
       "    <tr>\n",
       "      <th>0</th>\n",
       "      <td>2</td>\n",
       "      <td>002 - Retiro I</td>\n",
       "      <td>SMARTLITMAPFRAME</td>\n",
       "      <td>-34.592423</td>\n",
       "      <td>-58.374715</td>\n",
       "      <td>0.0</td>\n",
       "      <td>Ramos Mejia, Jose Maria, Dr. Av. &amp; Del Liberta...</td>\n",
       "      <td>11111</td>\n",
       "      <td>20</td>\n",
       "      <td>[KEY, TRANSITCARD, PHONE]</td>\n",
       "      <td>[RETIRO]</td>\n",
       "      <td></td>\n",
       "      <td>1000.0</td>\n",
       "      <td>NaN</td>\n",
       "    </tr>\n",
       "    <tr>\n",
       "      <th>1</th>\n",
       "      <td>3</td>\n",
       "      <td>003 - ADUANA</td>\n",
       "      <td>SMARTLITMAPFRAME</td>\n",
       "      <td>-34.611032</td>\n",
       "      <td>-58.368260</td>\n",
       "      <td>0.0</td>\n",
       "      <td>Moreno &amp; Av Paseo Colon</td>\n",
       "      <td>11111</td>\n",
       "      <td>20</td>\n",
       "      <td>[KEY, TRANSITCARD, PHONE]</td>\n",
       "      <td>[MONSERRAT]</td>\n",
       "      <td>NaN</td>\n",
       "      <td>1000.0</td>\n",
       "      <td>Moreno &amp; Av Paseo Colon</td>\n",
       "    </tr>\n",
       "    <tr>\n",
       "      <th>2</th>\n",
       "      <td>4</td>\n",
       "      <td>004 - Plaza Roma</td>\n",
       "      <td>SMARTLITMAPFRAME</td>\n",
       "      <td>-34.601822</td>\n",
       "      <td>-58.368781</td>\n",
       "      <td>0.0</td>\n",
       "      <td>Lavalle &amp; Bouchard</td>\n",
       "      <td>11111</td>\n",
       "      <td>20</td>\n",
       "      <td>[KEY, TRANSITCARD, PHONE]</td>\n",
       "      <td>[SAN NICOLAS]</td>\n",
       "      <td></td>\n",
       "      <td>1000.0</td>\n",
       "      <td>NaN</td>\n",
       "    </tr>\n",
       "    <tr>\n",
       "      <th>3</th>\n",
       "      <td>5</td>\n",
       "      <td>005 - Plaza Italia</td>\n",
       "      <td>SMARTLITMAPFRAME</td>\n",
       "      <td>-34.580550</td>\n",
       "      <td>-58.420954</td>\n",
       "      <td>0.0</td>\n",
       "      <td>Av. Sarmiento 2601</td>\n",
       "      <td>1111</td>\n",
       "      <td>42</td>\n",
       "      <td>[KEY, TRANSITCARD, PHONE]</td>\n",
       "      <td>[PALERMO]</td>\n",
       "      <td></td>\n",
       "      <td>1000.0</td>\n",
       "      <td>NaN</td>\n",
       "    </tr>\n",
       "    <tr>\n",
       "      <th>4</th>\n",
       "      <td>6</td>\n",
       "      <td>006 - Parque Lezama</td>\n",
       "      <td>SMARTLITMAPFRAME</td>\n",
       "      <td>-34.628526</td>\n",
       "      <td>-58.369758</td>\n",
       "      <td>0.0</td>\n",
       "      <td>Avenida Martin Garcia, 295</td>\n",
       "      <td>1111</td>\n",
       "      <td>20</td>\n",
       "      <td>[KEY, TRANSITCARD, PHONE]</td>\n",
       "      <td>[SAN TELMO]</td>\n",
       "      <td></td>\n",
       "      <td>1000.0</td>\n",
       "      <td>NaN</td>\n",
       "    </tr>\n",
       "  </tbody>\n",
       "</table>\n",
       "</div>"
      ],
      "text/plain": [
       "  station_id                 name physical_configuration        lat  \\\n",
       "0          2       002 - Retiro I       SMARTLITMAPFRAME -34.592423   \n",
       "1          3         003 - ADUANA       SMARTLITMAPFRAME -34.611032   \n",
       "2          4     004 - Plaza Roma       SMARTLITMAPFRAME -34.601822   \n",
       "3          5   005 - Plaza Italia       SMARTLITMAPFRAME -34.580550   \n",
       "4          6  006 - Parque Lezama       SMARTLITMAPFRAME -34.628526   \n",
       "\n",
       "         lon  altitude                                            address  \\\n",
       "0 -58.374715       0.0  Ramos Mejia, Jose Maria, Dr. Av. & Del Liberta...   \n",
       "1 -58.368260       0.0                            Moreno & Av Paseo Colon   \n",
       "2 -58.368781       0.0                                 Lavalle & Bouchard   \n",
       "3 -58.420954       0.0                                 Av. Sarmiento 2601   \n",
       "4 -58.369758       0.0                         Avenida Martin Garcia, 295   \n",
       "\n",
       "  post_code  capacity             rental_methods         groups obcn  \\\n",
       "0     11111        20  [KEY, TRANSITCARD, PHONE]       [RETIRO]        \n",
       "1     11111        20  [KEY, TRANSITCARD, PHONE]    [MONSERRAT]  NaN   \n",
       "2     11111        20  [KEY, TRANSITCARD, PHONE]  [SAN NICOLAS]        \n",
       "3      1111        42  [KEY, TRANSITCARD, PHONE]      [PALERMO]        \n",
       "4      1111        20  [KEY, TRANSITCARD, PHONE]    [SAN TELMO]        \n",
       "\n",
       "   nearby_distance             cross_street  \n",
       "0           1000.0                      NaN  \n",
       "1           1000.0  Moreno & Av Paseo Colon  \n",
       "2           1000.0                      NaN  \n",
       "3           1000.0                      NaN  \n",
       "4           1000.0                      NaN  "
      ]
     },
     "execution_count": 52,
     "metadata": {},
     "output_type": "execute_result"
    }
   ],
   "source": [
    "df.head()"
   ]
  },
  {
   "cell_type": "code",
   "execution_count": 111,
   "metadata": {},
   "outputs": [
    {
     "data": {
      "text/html": [
       "<div>\n",
       "<style scoped>\n",
       "    .dataframe tbody tr th:only-of-type {\n",
       "        vertical-align: middle;\n",
       "    }\n",
       "\n",
       "    .dataframe tbody tr th {\n",
       "        vertical-align: top;\n",
       "    }\n",
       "\n",
       "    .dataframe thead th {\n",
       "        text-align: right;\n",
       "    }\n",
       "</style>\n",
       "<table border=\"1\" class=\"dataframe\">\n",
       "  <thead>\n",
       "    <tr style=\"text-align: right;\">\n",
       "      <th></th>\n",
       "      <th>station_id</th>\n",
       "      <th>name</th>\n",
       "      <th>physical_configuration</th>\n",
       "      <th>lat</th>\n",
       "      <th>lon</th>\n",
       "      <th>altitude</th>\n",
       "      <th>address</th>\n",
       "      <th>post_code</th>\n",
       "      <th>capacity</th>\n",
       "      <th>rental_methods</th>\n",
       "      <th>groups</th>\n",
       "      <th>obcn</th>\n",
       "      <th>nearby_distance</th>\n",
       "      <th>cross_street</th>\n",
       "    </tr>\n",
       "  </thead>\n",
       "  <tbody>\n",
       "    <tr>\n",
       "      <th>194</th>\n",
       "      <td>435</td>\n",
       "      <td>227 -Club Ciudad de Buenos Aires</td>\n",
       "      <td>SMARTLITMAPFRAME</td>\n",
       "      <td>-34.544503</td>\n",
       "      <td>-58.459499</td>\n",
       "      <td>0.0</td>\n",
       "      <td>Miguel Sanchez y Av Libertadores</td>\n",
       "      <td>1111</td>\n",
       "      <td>16</td>\n",
       "      <td>[KEY, TRANSITCARD, PHONE]</td>\n",
       "      <td>[Nuñez]</td>\n",
       "      <td></td>\n",
       "      <td>1.0</td>\n",
       "      <td>NaN</td>\n",
       "    </tr>\n",
       "    <tr>\n",
       "      <th>195</th>\n",
       "      <td>441</td>\n",
       "      <td>016 - Legislatura</td>\n",
       "      <td>SMARTLITMAPFRAME</td>\n",
       "      <td>-34.609801</td>\n",
       "      <td>-58.374800</td>\n",
       "      <td>0.0</td>\n",
       "      <td>169 Peru &amp; Roca, Julio A., Presidente Diagonal...</td>\n",
       "      <td>1111</td>\n",
       "      <td>20</td>\n",
       "      <td>[KEY, TRANSITCARD, PHONE]</td>\n",
       "      <td>[MONSERRAT]</td>\n",
       "      <td></td>\n",
       "      <td>1000.0</td>\n",
       "      <td>NaN</td>\n",
       "    </tr>\n",
       "    <tr>\n",
       "      <th>196</th>\n",
       "      <td>444</td>\n",
       "      <td>061-Ministerio de Economia</td>\n",
       "      <td>SMARTLITMAPFRAME</td>\n",
       "      <td>-34.608936</td>\n",
       "      <td>-58.370716</td>\n",
       "      <td>0.0</td>\n",
       "      <td>Balcarce &amp; Yrigoyen, Hipolito Av.</td>\n",
       "      <td>1111</td>\n",
       "      <td>24</td>\n",
       "      <td>[KEY, TRANSITCARD, PHONE]</td>\n",
       "      <td>[SAN NICOLAS]</td>\n",
       "      <td></td>\n",
       "      <td>1000.0</td>\n",
       "      <td>NaN</td>\n",
       "    </tr>\n",
       "    <tr>\n",
       "      <th>197</th>\n",
       "      <td>448</td>\n",
       "      <td>393 - Barrio 31</td>\n",
       "      <td>SMARTLITMAPFRAME</td>\n",
       "      <td>-34.582422</td>\n",
       "      <td>-58.378862</td>\n",
       "      <td>0.0</td>\n",
       "      <td>Carlos H. Perette 11</td>\n",
       "      <td>1111</td>\n",
       "      <td>24</td>\n",
       "      <td>[KEY, TRANSITCARD, PHONE]</td>\n",
       "      <td>[RETIRO]</td>\n",
       "      <td></td>\n",
       "      <td>1000.0</td>\n",
       "      <td>NaN</td>\n",
       "    </tr>\n",
       "    <tr>\n",
       "      <th>198</th>\n",
       "      <td>449</td>\n",
       "      <td>352 - San Jose de Flores</td>\n",
       "      <td>SMARTLITMAPFRAME</td>\n",
       "      <td>-34.629083</td>\n",
       "      <td>-58.463251</td>\n",
       "      <td>0.0</td>\n",
       "      <td>Avenida Rivadavia y Fray Cayetano</td>\n",
       "      <td>1111</td>\n",
       "      <td>24</td>\n",
       "      <td>[KEY, TRANSITCARD, PHONE]</td>\n",
       "      <td>[FLORES]</td>\n",
       "      <td></td>\n",
       "      <td>1000.0</td>\n",
       "      <td>NaN</td>\n",
       "    </tr>\n",
       "  </tbody>\n",
       "</table>\n",
       "</div>"
      ],
      "text/plain": [
       "    station_id                              name physical_configuration  \\\n",
       "194        435  227 -Club Ciudad de Buenos Aires       SMARTLITMAPFRAME   \n",
       "195        441                 016 - Legislatura       SMARTLITMAPFRAME   \n",
       "196        444        061-Ministerio de Economia       SMARTLITMAPFRAME   \n",
       "197        448                   393 - Barrio 31       SMARTLITMAPFRAME   \n",
       "198        449          352 - San Jose de Flores       SMARTLITMAPFRAME   \n",
       "\n",
       "           lat        lon  altitude  \\\n",
       "194 -34.544503 -58.459499       0.0   \n",
       "195 -34.609801 -58.374800       0.0   \n",
       "196 -34.608936 -58.370716       0.0   \n",
       "197 -34.582422 -58.378862       0.0   \n",
       "198 -34.629083 -58.463251       0.0   \n",
       "\n",
       "                                               address post_code  capacity  \\\n",
       "194                   Miguel Sanchez y Av Libertadores      1111        16   \n",
       "195  169 Peru & Roca, Julio A., Presidente Diagonal...      1111        20   \n",
       "196                  Balcarce & Yrigoyen, Hipolito Av.      1111        24   \n",
       "197                               Carlos H. Perette 11      1111        24   \n",
       "198                  Avenida Rivadavia y Fray Cayetano      1111        24   \n",
       "\n",
       "                rental_methods         groups obcn  nearby_distance  \\\n",
       "194  [KEY, TRANSITCARD, PHONE]        [Nuñez]                   1.0   \n",
       "195  [KEY, TRANSITCARD, PHONE]    [MONSERRAT]                1000.0   \n",
       "196  [KEY, TRANSITCARD, PHONE]  [SAN NICOLAS]                1000.0   \n",
       "197  [KEY, TRANSITCARD, PHONE]       [RETIRO]                1000.0   \n",
       "198  [KEY, TRANSITCARD, PHONE]       [FLORES]                1000.0   \n",
       "\n",
       "    cross_street  \n",
       "194          NaN  \n",
       "195          NaN  \n",
       "196          NaN  \n",
       "197          NaN  \n",
       "198          NaN  "
      ]
     },
     "execution_count": 111,
     "metadata": {},
     "output_type": "execute_result"
    }
   ],
   "source": [
    "df.tail()"
   ]
  },
  {
   "cell_type": "code",
   "execution_count": 53,
   "metadata": {},
   "outputs": [
    {
     "data": {
      "text/plain": [
       "'https://apitransporte.buenosaires.gob.ar/ecobici/gbfs/stationInformation?'"
      ]
     },
     "execution_count": 53,
     "metadata": {},
     "output_type": "execute_result"
    }
   ],
   "source": [
    "api = 'https://apitransporte.buenosaires.gob.ar/ecobici/gbfs/stationInformation?'\n",
    "api"
   ]
  },
  {
   "cell_type": "code",
   "execution_count": 54,
   "metadata": {},
   "outputs": [],
   "source": [
    "def get_bici(empresa):\n",
    "    api = 'https://apitransporte.buenosaires.gob.ar/ecobici/gbfs/stationInformation?'\n",
    "\n",
    "    request = requests.get(api, \n",
    "                         params={\n",
    "                            'client_id': p_client_id, \n",
    "                            'client_secret': p_client_secret}\n",
    "                         )\n",
    "    json = request.json()\n",
    "    data = json.get('data')\n",
    "    df = pd.DataFrame(data)\n",
    "    df = json_normalize(data['stations'])\n",
    "\n",
    "    df['empresa'] = empresa\n",
    "\n",
    "    return df"
   ]
  },
  {
   "cell_type": "code",
   "execution_count": 64,
   "metadata": {},
   "outputs": [
    {
     "data": {
      "text/html": [
       "<div>\n",
       "<style scoped>\n",
       "    .dataframe tbody tr th:only-of-type {\n",
       "        vertical-align: middle;\n",
       "    }\n",
       "\n",
       "    .dataframe tbody tr th {\n",
       "        vertical-align: top;\n",
       "    }\n",
       "\n",
       "    .dataframe thead th {\n",
       "        text-align: right;\n",
       "    }\n",
       "</style>\n",
       "<table border=\"1\" class=\"dataframe\">\n",
       "  <thead>\n",
       "    <tr style=\"text-align: right;\">\n",
       "      <th></th>\n",
       "      <th>station_id</th>\n",
       "      <th>name</th>\n",
       "      <th>physical_configuration</th>\n",
       "      <th>lat</th>\n",
       "      <th>lon</th>\n",
       "      <th>altitude</th>\n",
       "      <th>address</th>\n",
       "      <th>post_code</th>\n",
       "      <th>capacity</th>\n",
       "      <th>rental_methods</th>\n",
       "      <th>groups</th>\n",
       "      <th>obcn</th>\n",
       "      <th>nearby_distance</th>\n",
       "      <th>cross_street</th>\n",
       "    </tr>\n",
       "  </thead>\n",
       "  <tbody>\n",
       "    <tr>\n",
       "      <th>0</th>\n",
       "      <td>2</td>\n",
       "      <td>002 - Retiro I</td>\n",
       "      <td>SMARTLITMAPFRAME</td>\n",
       "      <td>-34.592423</td>\n",
       "      <td>-58.374715</td>\n",
       "      <td>0.0</td>\n",
       "      <td>Ramos Mejia, Jose Maria, Dr. Av. &amp; Del Liberta...</td>\n",
       "      <td>11111</td>\n",
       "      <td>20</td>\n",
       "      <td>[KEY, TRANSITCARD, PHONE]</td>\n",
       "      <td>[RETIRO]</td>\n",
       "      <td></td>\n",
       "      <td>1000.0</td>\n",
       "      <td>NaN</td>\n",
       "    </tr>\n",
       "    <tr>\n",
       "      <th>1</th>\n",
       "      <td>3</td>\n",
       "      <td>003 - ADUANA</td>\n",
       "      <td>SMARTLITMAPFRAME</td>\n",
       "      <td>-34.611032</td>\n",
       "      <td>-58.368260</td>\n",
       "      <td>0.0</td>\n",
       "      <td>Moreno &amp; Av Paseo Colon</td>\n",
       "      <td>11111</td>\n",
       "      <td>20</td>\n",
       "      <td>[KEY, TRANSITCARD, PHONE]</td>\n",
       "      <td>[MONSERRAT]</td>\n",
       "      <td>NaN</td>\n",
       "      <td>1000.0</td>\n",
       "      <td>Moreno &amp; Av Paseo Colon</td>\n",
       "    </tr>\n",
       "  </tbody>\n",
       "</table>\n",
       "</div>"
      ],
      "text/plain": [
       "  station_id            name physical_configuration        lat        lon  \\\n",
       "0          2  002 - Retiro I       SMARTLITMAPFRAME -34.592423 -58.374715   \n",
       "1          3    003 - ADUANA       SMARTLITMAPFRAME -34.611032 -58.368260   \n",
       "\n",
       "   altitude                                            address post_code  \\\n",
       "0       0.0  Ramos Mejia, Jose Maria, Dr. Av. & Del Liberta...     11111   \n",
       "1       0.0                            Moreno & Av Paseo Colon     11111   \n",
       "\n",
       "   capacity             rental_methods       groups obcn  nearby_distance  \\\n",
       "0        20  [KEY, TRANSITCARD, PHONE]     [RETIRO]                1000.0   \n",
       "1        20  [KEY, TRANSITCARD, PHONE]  [MONSERRAT]  NaN           1000.0   \n",
       "\n",
       "              cross_street  \n",
       "0                      NaN  \n",
       "1  Moreno & Av Paseo Colon  "
      ]
     },
     "execution_count": 64,
     "metadata": {},
     "output_type": "execute_result"
    }
   ],
   "source": [
    "df.head(2)"
   ]
  },
  {
   "cell_type": "code",
   "execution_count": 63,
   "metadata": {},
   "outputs": [
    {
     "data": {
      "text/plain": [
       "Index(['station_id', 'name', 'physical_configuration', 'lat', 'lon',\n",
       "       'altitude', 'address', 'post_code', 'capacity', 'rental_methods',\n",
       "       'groups', 'obcn', 'nearby_distance', 'cross_street'],\n",
       "      dtype='object')"
      ]
     },
     "execution_count": 63,
     "metadata": {},
     "output_type": "execute_result"
    }
   ],
   "source": [
    "df.columns"
   ]
  },
  {
   "cell_type": "code",
   "execution_count": 57,
   "metadata": {},
   "outputs": [
    {
     "data": {
      "text/plain": [
       "(199, 14)"
      ]
     },
     "execution_count": 57,
     "metadata": {},
     "output_type": "execute_result"
    }
   ],
   "source": [
    "df.shape"
   ]
  },
  {
   "cell_type": "code",
   "execution_count": 60,
   "metadata": {},
   "outputs": [
    {
     "data": {
      "text/plain": [
       "<bound method DataFrame.info of     station_id                              name physical_configuration  \\\n",
       "0            2                    002 - Retiro I       SMARTLITMAPFRAME   \n",
       "1            3                      003 - ADUANA       SMARTLITMAPFRAME   \n",
       "2            4                  004 - Plaza Roma       SMARTLITMAPFRAME   \n",
       "3            5                005 - Plaza Italia       SMARTLITMAPFRAME   \n",
       "4            6               006 - Parque Lezama       SMARTLITMAPFRAME   \n",
       "..         ...                               ...                    ...   \n",
       "194        435  227 -Club Ciudad de Buenos Aires       SMARTLITMAPFRAME   \n",
       "195        441                 016 - Legislatura       SMARTLITMAPFRAME   \n",
       "196        444        061-Ministerio de Economia       SMARTLITMAPFRAME   \n",
       "197        448                   393 - Barrio 31       SMARTLITMAPFRAME   \n",
       "198        449          352 - San Jose de Flores       SMARTLITMAPFRAME   \n",
       "\n",
       "           lat        lon  altitude  \\\n",
       "0   -34.592423 -58.374715       0.0   \n",
       "1   -34.611032 -58.368260       0.0   \n",
       "2   -34.601822 -58.368781       0.0   \n",
       "3   -34.580550 -58.420954       0.0   \n",
       "4   -34.628526 -58.369758       0.0   \n",
       "..         ...        ...       ...   \n",
       "194 -34.544503 -58.459499       0.0   \n",
       "195 -34.609801 -58.374800       0.0   \n",
       "196 -34.608936 -58.370716       0.0   \n",
       "197 -34.582422 -58.378862       0.0   \n",
       "198 -34.629083 -58.463251       0.0   \n",
       "\n",
       "                                               address post_code  capacity  \\\n",
       "0    Ramos Mejia, Jose Maria, Dr. Av. & Del Liberta...     11111        20   \n",
       "1                              Moreno & Av Paseo Colon     11111        20   \n",
       "2                                   Lavalle & Bouchard     11111        20   \n",
       "3                                   Av. Sarmiento 2601      1111        42   \n",
       "4                           Avenida Martin Garcia, 295      1111        20   \n",
       "..                                                 ...       ...       ...   \n",
       "194                   Miguel Sanchez y Av Libertadores      1111        16   \n",
       "195  169 Peru & Roca, Julio A., Presidente Diagonal...      1111        20   \n",
       "196                  Balcarce & Yrigoyen, Hipolito Av.      1111        24   \n",
       "197                               Carlos H. Perette 11      1111        24   \n",
       "198                  Avenida Rivadavia y Fray Cayetano      1111        24   \n",
       "\n",
       "                rental_methods         groups obcn  nearby_distance  \\\n",
       "0    [KEY, TRANSITCARD, PHONE]       [RETIRO]                1000.0   \n",
       "1    [KEY, TRANSITCARD, PHONE]    [MONSERRAT]  NaN           1000.0   \n",
       "2    [KEY, TRANSITCARD, PHONE]  [SAN NICOLAS]                1000.0   \n",
       "3    [KEY, TRANSITCARD, PHONE]      [PALERMO]                1000.0   \n",
       "4    [KEY, TRANSITCARD, PHONE]    [SAN TELMO]                1000.0   \n",
       "..                         ...            ...  ...              ...   \n",
       "194  [KEY, TRANSITCARD, PHONE]        [Nuñez]                   1.0   \n",
       "195  [KEY, TRANSITCARD, PHONE]    [MONSERRAT]                1000.0   \n",
       "196  [KEY, TRANSITCARD, PHONE]  [SAN NICOLAS]                1000.0   \n",
       "197  [KEY, TRANSITCARD, PHONE]       [RETIRO]                1000.0   \n",
       "198  [KEY, TRANSITCARD, PHONE]       [FLORES]                1000.0   \n",
       "\n",
       "                cross_street  \n",
       "0                        NaN  \n",
       "1    Moreno & Av Paseo Colon  \n",
       "2                        NaN  \n",
       "3                        NaN  \n",
       "4                        NaN  \n",
       "..                       ...  \n",
       "194                      NaN  \n",
       "195                      NaN  \n",
       "196                      NaN  \n",
       "197                      NaN  \n",
       "198                      NaN  \n",
       "\n",
       "[199 rows x 14 columns]>"
      ]
     },
     "execution_count": 60,
     "metadata": {},
     "output_type": "execute_result"
    }
   ],
   "source": [
    "df.info"
   ]
  },
  {
   "cell_type": "code",
   "execution_count": 61,
   "metadata": {},
   "outputs": [
    {
     "data": {
      "text/plain": [
       "<bound method NDFrame.describe of     station_id                              name physical_configuration  \\\n",
       "0            2                    002 - Retiro I       SMARTLITMAPFRAME   \n",
       "1            3                      003 - ADUANA       SMARTLITMAPFRAME   \n",
       "2            4                  004 - Plaza Roma       SMARTLITMAPFRAME   \n",
       "3            5                005 - Plaza Italia       SMARTLITMAPFRAME   \n",
       "4            6               006 - Parque Lezama       SMARTLITMAPFRAME   \n",
       "..         ...                               ...                    ...   \n",
       "194        435  227 -Club Ciudad de Buenos Aires       SMARTLITMAPFRAME   \n",
       "195        441                 016 - Legislatura       SMARTLITMAPFRAME   \n",
       "196        444        061-Ministerio de Economia       SMARTLITMAPFRAME   \n",
       "197        448                   393 - Barrio 31       SMARTLITMAPFRAME   \n",
       "198        449          352 - San Jose de Flores       SMARTLITMAPFRAME   \n",
       "\n",
       "           lat        lon  altitude  \\\n",
       "0   -34.592423 -58.374715       0.0   \n",
       "1   -34.611032 -58.368260       0.0   \n",
       "2   -34.601822 -58.368781       0.0   \n",
       "3   -34.580550 -58.420954       0.0   \n",
       "4   -34.628526 -58.369758       0.0   \n",
       "..         ...        ...       ...   \n",
       "194 -34.544503 -58.459499       0.0   \n",
       "195 -34.609801 -58.374800       0.0   \n",
       "196 -34.608936 -58.370716       0.0   \n",
       "197 -34.582422 -58.378862       0.0   \n",
       "198 -34.629083 -58.463251       0.0   \n",
       "\n",
       "                                               address post_code  capacity  \\\n",
       "0    Ramos Mejia, Jose Maria, Dr. Av. & Del Liberta...     11111        20   \n",
       "1                              Moreno & Av Paseo Colon     11111        20   \n",
       "2                                   Lavalle & Bouchard     11111        20   \n",
       "3                                   Av. Sarmiento 2601      1111        42   \n",
       "4                           Avenida Martin Garcia, 295      1111        20   \n",
       "..                                                 ...       ...       ...   \n",
       "194                   Miguel Sanchez y Av Libertadores      1111        16   \n",
       "195  169 Peru & Roca, Julio A., Presidente Diagonal...      1111        20   \n",
       "196                  Balcarce & Yrigoyen, Hipolito Av.      1111        24   \n",
       "197                               Carlos H. Perette 11      1111        24   \n",
       "198                  Avenida Rivadavia y Fray Cayetano      1111        24   \n",
       "\n",
       "                rental_methods         groups obcn  nearby_distance  \\\n",
       "0    [KEY, TRANSITCARD, PHONE]       [RETIRO]                1000.0   \n",
       "1    [KEY, TRANSITCARD, PHONE]    [MONSERRAT]  NaN           1000.0   \n",
       "2    [KEY, TRANSITCARD, PHONE]  [SAN NICOLAS]                1000.0   \n",
       "3    [KEY, TRANSITCARD, PHONE]      [PALERMO]                1000.0   \n",
       "4    [KEY, TRANSITCARD, PHONE]    [SAN TELMO]                1000.0   \n",
       "..                         ...            ...  ...              ...   \n",
       "194  [KEY, TRANSITCARD, PHONE]        [Nuñez]                   1.0   \n",
       "195  [KEY, TRANSITCARD, PHONE]    [MONSERRAT]                1000.0   \n",
       "196  [KEY, TRANSITCARD, PHONE]  [SAN NICOLAS]                1000.0   \n",
       "197  [KEY, TRANSITCARD, PHONE]       [RETIRO]                1000.0   \n",
       "198  [KEY, TRANSITCARD, PHONE]       [FLORES]                1000.0   \n",
       "\n",
       "                cross_street  \n",
       "0                        NaN  \n",
       "1    Moreno & Av Paseo Colon  \n",
       "2                        NaN  \n",
       "3                        NaN  \n",
       "4                        NaN  \n",
       "..                       ...  \n",
       "194                      NaN  \n",
       "195                      NaN  \n",
       "196                      NaN  \n",
       "197                      NaN  \n",
       "198                      NaN  \n",
       "\n",
       "[199 rows x 14 columns]>"
      ]
     },
     "execution_count": 61,
     "metadata": {},
     "output_type": "execute_result"
    }
   ],
   "source": [
    "df.describe"
   ]
  },
  {
   "cell_type": "code",
   "execution_count": 96,
   "metadata": {},
   "outputs": [
    {
     "data": {
      "text/html": [
       "<div>\n",
       "<style scoped>\n",
       "    .dataframe tbody tr th:only-of-type {\n",
       "        vertical-align: middle;\n",
       "    }\n",
       "\n",
       "    .dataframe tbody tr th {\n",
       "        vertical-align: top;\n",
       "    }\n",
       "\n",
       "    .dataframe thead th {\n",
       "        text-align: right;\n",
       "    }\n",
       "</style>\n",
       "<table border=\"1\" class=\"dataframe\">\n",
       "  <thead>\n",
       "    <tr style=\"text-align: right;\">\n",
       "      <th></th>\n",
       "      <th>station_id</th>\n",
       "      <th>name</th>\n",
       "      <th>groups</th>\n",
       "      <th>address</th>\n",
       "      <th>lat</th>\n",
       "      <th>lon</th>\n",
       "    </tr>\n",
       "  </thead>\n",
       "  <tbody>\n",
       "    <tr>\n",
       "      <th>0</th>\n",
       "      <td>2</td>\n",
       "      <td>002 - Retiro I</td>\n",
       "      <td>[RETIRO]</td>\n",
       "      <td>Ramos Mejia, Jose Maria, Dr. Av. &amp; Del Liberta...</td>\n",
       "      <td>-34.592423</td>\n",
       "      <td>-58.374715</td>\n",
       "    </tr>\n",
       "    <tr>\n",
       "      <th>1</th>\n",
       "      <td>3</td>\n",
       "      <td>003 - ADUANA</td>\n",
       "      <td>[MONSERRAT]</td>\n",
       "      <td>Moreno &amp; Av Paseo Colon</td>\n",
       "      <td>-34.611032</td>\n",
       "      <td>-58.368260</td>\n",
       "    </tr>\n",
       "    <tr>\n",
       "      <th>2</th>\n",
       "      <td>4</td>\n",
       "      <td>004 - Plaza Roma</td>\n",
       "      <td>[SAN NICOLAS]</td>\n",
       "      <td>Lavalle &amp; Bouchard</td>\n",
       "      <td>-34.601822</td>\n",
       "      <td>-58.368781</td>\n",
       "    </tr>\n",
       "    <tr>\n",
       "      <th>3</th>\n",
       "      <td>5</td>\n",
       "      <td>005 - Plaza Italia</td>\n",
       "      <td>[PALERMO]</td>\n",
       "      <td>Av. Sarmiento 2601</td>\n",
       "      <td>-34.580550</td>\n",
       "      <td>-58.420954</td>\n",
       "    </tr>\n",
       "    <tr>\n",
       "      <th>4</th>\n",
       "      <td>6</td>\n",
       "      <td>006 - Parque Lezama</td>\n",
       "      <td>[SAN TELMO]</td>\n",
       "      <td>Avenida Martin Garcia, 295</td>\n",
       "      <td>-34.628526</td>\n",
       "      <td>-58.369758</td>\n",
       "    </tr>\n",
       "    <tr>\n",
       "      <th>5</th>\n",
       "      <td>7</td>\n",
       "      <td>007 - OBELISCO</td>\n",
       "      <td>[SAN NICOLAS]</td>\n",
       "      <td>CARLOS PELEGRINI 215</td>\n",
       "      <td>-34.606498</td>\n",
       "      <td>-58.381098</td>\n",
       "    </tr>\n",
       "    <tr>\n",
       "      <th>6</th>\n",
       "      <td>8</td>\n",
       "      <td>008 - Congreso</td>\n",
       "      <td>[SAN NICOLAS]</td>\n",
       "      <td>Cevallos, Virrey&amp; Yrigoyen, Hipolito Av.</td>\n",
       "      <td>-34.609422</td>\n",
       "      <td>-58.389336</td>\n",
       "    </tr>\n",
       "    <tr>\n",
       "      <th>7</th>\n",
       "      <td>9</td>\n",
       "      <td>009 - Parque Las Heras</td>\n",
       "      <td>[PALERMO]</td>\n",
       "      <td>2300 Diaz, Cnel. Av. &amp; French</td>\n",
       "      <td>-34.585443</td>\n",
       "      <td>-58.407741</td>\n",
       "    </tr>\n",
       "    <tr>\n",
       "      <th>8</th>\n",
       "      <td>12</td>\n",
       "      <td>012 - Plaza Vicente Lopez</td>\n",
       "      <td>[RECOLETA]</td>\n",
       "      <td>Parana &amp; Juncal</td>\n",
       "      <td>-34.592710</td>\n",
       "      <td>-58.388807</td>\n",
       "    </tr>\n",
       "    <tr>\n",
       "      <th>9</th>\n",
       "      <td>13</td>\n",
       "      <td>013 - ONCE</td>\n",
       "      <td>[BALVANERA]</td>\n",
       "      <td>Av. Pueyrredon &amp; Av. Rivadavia</td>\n",
       "      <td>-34.610090</td>\n",
       "      <td>-58.406000</td>\n",
       "    </tr>\n",
       "    <tr>\n",
       "      <th>10</th>\n",
       "      <td>14</td>\n",
       "      <td>014 - Pacifico</td>\n",
       "      <td>[PALERMO]</td>\n",
       "      <td>Santa Fe Av. &amp; Bullrich, Int. Av.</td>\n",
       "      <td>-34.577424</td>\n",
       "      <td>-58.426387</td>\n",
       "    </tr>\n",
       "    <tr>\n",
       "      <th>11</th>\n",
       "      <td>17</td>\n",
       "      <td>017 - Plaza Almagro</td>\n",
       "      <td>[ALMAGRO]</td>\n",
       "      <td>441 Bulnes &amp; Peron, Juan Domingo, Tte. General</td>\n",
       "      <td>-34.606410</td>\n",
       "      <td>-58.418731</td>\n",
       "    </tr>\n",
       "    <tr>\n",
       "      <th>12</th>\n",
       "      <td>20</td>\n",
       "      <td>020 - Distrito Audiovisual</td>\n",
       "      <td>[COLEGIALES]</td>\n",
       "      <td>Zapiola &amp; Dorrego</td>\n",
       "      <td>-34.579862</td>\n",
       "      <td>-58.441776</td>\n",
       "    </tr>\n",
       "    <tr>\n",
       "      <th>13</th>\n",
       "      <td>21</td>\n",
       "      <td>021 - Parque Patricios</td>\n",
       "      <td>[PARQUE PATRICIOS]</td>\n",
       "      <td>Iguazu &amp; Uspallata</td>\n",
       "      <td>-34.640111</td>\n",
       "      <td>-58.406432</td>\n",
       "    </tr>\n",
       "    <tr>\n",
       "      <th>14</th>\n",
       "      <td>22</td>\n",
       "      <td>022 - Arenales</td>\n",
       "      <td>[RETIRO]</td>\n",
       "      <td>Cerrito &amp; Arenales</td>\n",
       "      <td>-34.593863</td>\n",
       "      <td>-58.382550</td>\n",
       "    </tr>\n",
       "    <tr>\n",
       "      <th>15</th>\n",
       "      <td>23</td>\n",
       "      <td>023 - Suipacha</td>\n",
       "      <td>[SAN NICOLAS]</td>\n",
       "      <td>Suipacha &amp; Viamonte, 709</td>\n",
       "      <td>-34.600139</td>\n",
       "      <td>-58.379836</td>\n",
       "    </tr>\n",
       "    <tr>\n",
       "      <th>16</th>\n",
       "      <td>24</td>\n",
       "      <td>024 - ALSINA</td>\n",
       "      <td>[MONSERRAT]</td>\n",
       "      <td>Adolfo Alsina&amp; Bernardo De Irigoyen</td>\n",
       "      <td>-34.610583</td>\n",
       "      <td>-58.380894</td>\n",
       "    </tr>\n",
       "    <tr>\n",
       "      <th>17</th>\n",
       "      <td>25</td>\n",
       "      <td>025 - Plaza Guemes</td>\n",
       "      <td>[PALERMO]</td>\n",
       "      <td>Salguero, Jeronimo &amp; Mansilla, Lucio Norberto,...</td>\n",
       "      <td>-34.589427</td>\n",
       "      <td>-58.416118</td>\n",
       "    </tr>\n",
       "    <tr>\n",
       "      <th>18</th>\n",
       "      <td>26</td>\n",
       "      <td>026 - JUANA MANSO I</td>\n",
       "      <td>[PUERTO MADERO]</td>\n",
       "      <td>Manso Juana &amp; De La Barra, Emma</td>\n",
       "      <td>-34.600752</td>\n",
       "      <td>-58.363872</td>\n",
       "    </tr>\n",
       "    <tr>\n",
       "      <th>19</th>\n",
       "      <td>27</td>\n",
       "      <td>027 - Montevideo</td>\n",
       "      <td>[SAN NICOLAS]</td>\n",
       "      <td>Cordoba Av. &amp; Montevideo</td>\n",
       "      <td>-34.599068</td>\n",
       "      <td>-58.390089</td>\n",
       "    </tr>\n",
       "  </tbody>\n",
       "</table>\n",
       "</div>"
      ],
      "text/plain": [
       "   station_id                        name              groups  \\\n",
       "0           2              002 - Retiro I            [RETIRO]   \n",
       "1           3                003 - ADUANA         [MONSERRAT]   \n",
       "2           4            004 - Plaza Roma       [SAN NICOLAS]   \n",
       "3           5          005 - Plaza Italia           [PALERMO]   \n",
       "4           6         006 - Parque Lezama         [SAN TELMO]   \n",
       "5           7              007 - OBELISCO       [SAN NICOLAS]   \n",
       "6           8              008 - Congreso       [SAN NICOLAS]   \n",
       "7           9      009 - Parque Las Heras           [PALERMO]   \n",
       "8          12   012 - Plaza Vicente Lopez          [RECOLETA]   \n",
       "9          13                  013 - ONCE         [BALVANERA]   \n",
       "10         14              014 - Pacifico           [PALERMO]   \n",
       "11         17         017 - Plaza Almagro           [ALMAGRO]   \n",
       "12         20  020 - Distrito Audiovisual        [COLEGIALES]   \n",
       "13         21      021 - Parque Patricios  [PARQUE PATRICIOS]   \n",
       "14         22              022 - Arenales            [RETIRO]   \n",
       "15         23              023 - Suipacha       [SAN NICOLAS]   \n",
       "16         24                024 - ALSINA         [MONSERRAT]   \n",
       "17         25          025 - Plaza Guemes           [PALERMO]   \n",
       "18         26         026 - JUANA MANSO I     [PUERTO MADERO]   \n",
       "19         27            027 - Montevideo       [SAN NICOLAS]   \n",
       "\n",
       "                                              address        lat        lon  \n",
       "0   Ramos Mejia, Jose Maria, Dr. Av. & Del Liberta... -34.592423 -58.374715  \n",
       "1                             Moreno & Av Paseo Colon -34.611032 -58.368260  \n",
       "2                                  Lavalle & Bouchard -34.601822 -58.368781  \n",
       "3                                  Av. Sarmiento 2601 -34.580550 -58.420954  \n",
       "4                          Avenida Martin Garcia, 295 -34.628526 -58.369758  \n",
       "5                                CARLOS PELEGRINI 215 -34.606498 -58.381098  \n",
       "6            Cevallos, Virrey& Yrigoyen, Hipolito Av. -34.609422 -58.389336  \n",
       "7                       2300 Diaz, Cnel. Av. & French -34.585443 -58.407741  \n",
       "8                                     Parana & Juncal -34.592710 -58.388807  \n",
       "9                      Av. Pueyrredon & Av. Rivadavia -34.610090 -58.406000  \n",
       "10                  Santa Fe Av. & Bullrich, Int. Av. -34.577424 -58.426387  \n",
       "11     441 Bulnes & Peron, Juan Domingo, Tte. General -34.606410 -58.418731  \n",
       "12                                  Zapiola & Dorrego -34.579862 -58.441776  \n",
       "13                                 Iguazu & Uspallata -34.640111 -58.406432  \n",
       "14                                 Cerrito & Arenales -34.593863 -58.382550  \n",
       "15                           Suipacha & Viamonte, 709 -34.600139 -58.379836  \n",
       "16                Adolfo Alsina& Bernardo De Irigoyen -34.610583 -58.380894  \n",
       "17  Salguero, Jeronimo & Mansilla, Lucio Norberto,... -34.589427 -58.416118  \n",
       "18                    Manso Juana & De La Barra, Emma -34.600752 -58.363872  \n",
       "19                           Cordoba Av. & Montevideo -34.599068 -58.390089  "
      ]
     },
     "execution_count": 96,
     "metadata": {},
     "output_type": "execute_result"
    }
   ],
   "source": [
    "df_geo = df[['station_id', 'name', 'groups','address','lat','lon']]\n",
    "df_geo.head(20)"
   ]
  },
  {
   "cell_type": "code",
   "execution_count": 66,
   "metadata": {},
   "outputs": [],
   "source": [
    "import folium"
   ]
  },
  {
   "cell_type": "code",
   "execution_count": 90,
   "metadata": {},
   "outputs": [
    {
     "data": {
      "text/html": [
       "<div style=\"width:100%;\"><div style=\"position:relative;width:100%;height:0;padding-bottom:60%;\"><span style=\"color:#565656\">Make this Notebook Trusted to load map: File -> Trust Notebook</span><iframe src=\"about:blank\" style=\"position:absolute;width:100%;height:100%;left:0;top:0;border:none !important;\" data-html=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 onload=\"this.contentDocument.open();this.contentDocument.write(atob(this.getAttribute('data-html')));this.contentDocument.close();\" allowfullscreen webkitallowfullscreen mozallowfullscreen></iframe></div></div>"
      ],
      "text/plain": [
       "<folium.folium.Map at 0x1bfc71ea688>"
      ]
     },
     "execution_count": 90,
     "metadata": {},
     "output_type": "execute_result"
    }
   ],
   "source": [
    "mapa = folium.Map(location=[-34.592423,-58.374715], zoom_start=11)\n",
    "mapa"
   ]
  },
  {
   "cell_type": "code",
   "execution_count": 80,
   "metadata": {},
   "outputs": [
    {
     "data": {
      "text/html": [
       "<div style=\"width:100%;\"><div style=\"position:relative;width:100%;height:0;padding-bottom:60%;\"><span style=\"color:#565656\">Make this Notebook Trusted to load map: File -> Trust Notebook</span><iframe src=\"about:blank\" style=\"position:absolute;width:100%;height:100%;left:0;top:0;border:none !important;\" data-html=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 onload=\"this.contentDocument.open();this.contentDocument.write(atob(this.getAttribute('data-html')));this.contentDocument.close();\" allowfullscreen webkitallowfullscreen mozallowfullscreen></iframe></div></div>"
      ],
      "text/plain": [
       "<folium.folium.Map at 0x1bfc6cd2bc8>"
      ]
     },
     "execution_count": 80,
     "metadata": {},
     "output_type": "execute_result"
    }
   ],
   "source": [
    "folium.Marker([-34.592423,-58.374715]).add_to(mapa)\n",
    "\n",
    "mapa"
   ]
  },
  {
   "cell_type": "code",
   "execution_count": 105,
   "metadata": {},
   "outputs": [
    {
     "data": {
      "text/html": [
       "<div style=\"width:100%;\"><div style=\"position:relative;width:100%;height:0;padding-bottom:60%;\"><span style=\"color:#565656\">Make this Notebook Trusted to load map: File -> Trust Notebook</span><iframe src=\"about:blank\" style=\"position:absolute;width:100%;height:100%;left:0;top:0;border:none !important;\" data-html=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 onload=\"this.contentDocument.open();this.contentDocument.write(atob(this.getAttribute('data-html')));this.contentDocument.close();\" allowfullscreen webkitallowfullscreen mozallowfullscreen></iframe></div></div>"
      ],
      "text/plain": [
       "<folium.folium.Map at 0x1bfc71ea688>"
      ]
     },
     "execution_count": 105,
     "metadata": {},
     "output_type": "execute_result"
    }
   ],
   "source": [
    "folium.Marker([-34.629083, -58.463251], \n",
    "              popup='Ultima estación'\n",
    "              ).add_to(mapa)\n",
    "folium.Marker([-34.592710, -58.388807], \n",
    "              popup='Lo viste genna', \n",
    "              icon=folium.Icon(color='darkred', icon='fas fa-american-sign-language-interpreting', prefix='fa' )\n",
    "              ).add_to(mapa)\n",
    "folium.Marker([-34.592423,-58.374715]).add_to(mapa)\n",
    "\n",
    "mapa"
   ]
  },
  {
   "cell_type": "code",
   "execution_count": 106,
   "metadata": {},
   "outputs": [
    {
     "data": {
      "text/html": [
       "<div style=\"width:100%;\"><div style=\"position:relative;width:100%;height:0;padding-bottom:60%;\"><span style=\"color:#565656\">Make this Notebook Trusted to load map: File -> Trust Notebook</span><iframe src=\"about:blank\" style=\"position:absolute;width:100%;height:100%;left:0;top:0;border:none !important;\" data-html=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 onload=\"this.contentDocument.open();this.contentDocument.write(atob(this.getAttribute('data-html')));this.contentDocument.close();\" allowfullscreen webkitallowfullscreen mozallowfullscreen></iframe></div></div>"
      ],
      "text/plain": [
       "<folium.folium.Map at 0x1bfc71ea688>"
      ]
     },
     "execution_count": 106,
     "metadata": {},
     "output_type": "execute_result"
    }
   ],
   "source": [
    "folium.Marker([-34.592710, -58.388807], \n",
    "              popup='Lo viste genna', \n",
    "              icon=folium.Icon(color='beige', icon='fas fa-american-sign-language-interpreting', prefix='fa' )\n",
    "              ).add_to(mapa)\n",
    "\n",
    "mapa\n",
    "\n",
    "\n",
    "#<i class=\"fas fa-american-sign-language-interpreting\"></i>\n",
    "# Genna\n"
   ]
  },
  {
   "cell_type": "code",
   "execution_count": 107,
   "metadata": {},
   "outputs": [
    {
     "data": {
      "text/html": [
       "<div>\n",
       "<style scoped>\n",
       "    .dataframe tbody tr th:only-of-type {\n",
       "        vertical-align: middle;\n",
       "    }\n",
       "\n",
       "    .dataframe tbody tr th {\n",
       "        vertical-align: top;\n",
       "    }\n",
       "\n",
       "    .dataframe thead th {\n",
       "        text-align: right;\n",
       "    }\n",
       "</style>\n",
       "<table border=\"1\" class=\"dataframe\">\n",
       "  <thead>\n",
       "    <tr style=\"text-align: right;\">\n",
       "      <th></th>\n",
       "      <th>station_id</th>\n",
       "      <th>name</th>\n",
       "      <th>physical_configuration</th>\n",
       "      <th>lat</th>\n",
       "      <th>lon</th>\n",
       "      <th>altitude</th>\n",
       "      <th>address</th>\n",
       "      <th>post_code</th>\n",
       "      <th>capacity</th>\n",
       "      <th>rental_methods</th>\n",
       "      <th>groups</th>\n",
       "      <th>obcn</th>\n",
       "      <th>nearby_distance</th>\n",
       "      <th>cross_street</th>\n",
       "    </tr>\n",
       "  </thead>\n",
       "  <tbody>\n",
       "    <tr>\n",
       "      <th>0</th>\n",
       "      <td>2</td>\n",
       "      <td>002 - Retiro I</td>\n",
       "      <td>SMARTLITMAPFRAME</td>\n",
       "      <td>-34.592423</td>\n",
       "      <td>-58.374715</td>\n",
       "      <td>0.0</td>\n",
       "      <td>Ramos Mejia, Jose Maria, Dr. Av. &amp; Del Liberta...</td>\n",
       "      <td>11111</td>\n",
       "      <td>20</td>\n",
       "      <td>[KEY, TRANSITCARD, PHONE]</td>\n",
       "      <td>[RETIRO]</td>\n",
       "      <td></td>\n",
       "      <td>1000.0</td>\n",
       "      <td>NaN</td>\n",
       "    </tr>\n",
       "    <tr>\n",
       "      <th>1</th>\n",
       "      <td>3</td>\n",
       "      <td>003 - ADUANA</td>\n",
       "      <td>SMARTLITMAPFRAME</td>\n",
       "      <td>-34.611032</td>\n",
       "      <td>-58.368260</td>\n",
       "      <td>0.0</td>\n",
       "      <td>Moreno &amp; Av Paseo Colon</td>\n",
       "      <td>11111</td>\n",
       "      <td>20</td>\n",
       "      <td>[KEY, TRANSITCARD, PHONE]</td>\n",
       "      <td>[MONSERRAT]</td>\n",
       "      <td>NaN</td>\n",
       "      <td>1000.0</td>\n",
       "      <td>Moreno &amp; Av Paseo Colon</td>\n",
       "    </tr>\n",
       "  </tbody>\n",
       "</table>\n",
       "</div>"
      ],
      "text/plain": [
       "  station_id            name physical_configuration        lat        lon  \\\n",
       "0          2  002 - Retiro I       SMARTLITMAPFRAME -34.592423 -58.374715   \n",
       "1          3    003 - ADUANA       SMARTLITMAPFRAME -34.611032 -58.368260   \n",
       "\n",
       "   altitude                                            address post_code  \\\n",
       "0       0.0  Ramos Mejia, Jose Maria, Dr. Av. & Del Liberta...     11111   \n",
       "1       0.0                            Moreno & Av Paseo Colon     11111   \n",
       "\n",
       "   capacity             rental_methods       groups obcn  nearby_distance  \\\n",
       "0        20  [KEY, TRANSITCARD, PHONE]     [RETIRO]                1000.0   \n",
       "1        20  [KEY, TRANSITCARD, PHONE]  [MONSERRAT]  NaN           1000.0   \n",
       "\n",
       "              cross_street  \n",
       "0                      NaN  \n",
       "1  Moreno & Av Paseo Colon  "
      ]
     },
     "execution_count": 107,
     "metadata": {},
     "output_type": "execute_result"
    }
   ],
   "source": [
    "df.head(2)"
   ]
  },
  {
   "cell_type": "code",
   "execution_count": 108,
   "metadata": {},
   "outputs": [
    {
     "data": {
      "text/html": [
       "<div style=\"width:100%;\"><div style=\"position:relative;width:100%;height:0;padding-bottom:60%;\"><span style=\"color:#565656\">Make this Notebook Trusted to load map: File -> Trust Notebook</span><iframe src=\"about:blank\" style=\"position:absolute;width:100%;height:100%;left:0;top:0;border:none !important;\" data-html=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 onload=\"this.contentDocument.open();this.contentDocument.write(atob(this.getAttribute('data-html')));this.contentDocument.close();\" allowfullscreen webkitallowfullscreen mozallowfullscreen></iframe></div></div>"
      ],
      "text/plain": [
       "<folium.folium.Map at 0x1bfc73362c8>"
      ]
     },
     "execution_count": 108,
     "metadata": {},
     "output_type": "execute_result"
    }
   ],
   "source": [
    "mapa = folium.Map(location=[-34.592423, -58.374715], zoom_start=11)\n",
    "\n",
    "for i in range(0, df.shape[0]):\n",
    "  folium.Marker([df.loc[i,'lat'], df.loc[i, 'lon']], popup=df.loc[i,'name']).add_to(mapa)\n",
    "\n",
    "mapa"
   ]
  },
  {
   "cell_type": "code",
   "execution_count": 112,
   "metadata": {},
   "outputs": [
    {
     "data": {
      "text/plain": [
       "tuple"
      ]
     },
     "execution_count": 112,
     "metadata": {},
     "output_type": "execute_result"
    }
   ],
   "source": [
    "tupla = ((-34.592423, -58.374715, 1),(-34.629083,-58.463251, 1))\n",
    "type(tupla)"
   ]
  },
  {
   "cell_type": "code",
   "execution_count": 124,
   "metadata": {},
   "outputs": [
    {
     "data": {
      "text/html": [
       "<div style=\"width:100%;\"><div style=\"position:relative;width:100%;height:0;padding-bottom:60%;\"><span style=\"color:#565656\">Make this Notebook Trusted to load map: File -> Trust Notebook</span><iframe src=\"about:blank\" style=\"position:absolute;width:100%;height:100%;left:0;top:0;border:none !important;\" data-html=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 onload=\"this.contentDocument.open();this.contentDocument.write(atob(this.getAttribute('data-html')));this.contentDocument.close();\" allowfullscreen webkitallowfullscreen mozallowfullscreen></iframe></div></div>"
      ],
      "text/plain": [
       "<folium.folium.Map at 0x1bfc764fec8>"
      ]
     },
     "execution_count": 124,
     "metadata": {},
     "output_type": "execute_result"
    }
   ],
   "source": [
    "mapa = folium.Map(location=[-34.592423, -58.374715], zoom_start=11)\n",
    "mapa_calor = HeatMap(list(tupla)).add_to(mapa)\n",
    "mapa"
   ]
  },
  {
   "cell_type": "code",
   "execution_count": 121,
   "metadata": {},
   "outputs": [
    {
     "data": {
      "text/html": [
       "<div>\n",
       "<style scoped>\n",
       "    .dataframe tbody tr th:only-of-type {\n",
       "        vertical-align: middle;\n",
       "    }\n",
       "\n",
       "    .dataframe tbody tr th {\n",
       "        vertical-align: top;\n",
       "    }\n",
       "\n",
       "    .dataframe thead th {\n",
       "        text-align: right;\n",
       "    }\n",
       "</style>\n",
       "<table border=\"1\" class=\"dataframe\">\n",
       "  <thead>\n",
       "    <tr style=\"text-align: right;\">\n",
       "      <th></th>\n",
       "      <th>station_id</th>\n",
       "      <th>name</th>\n",
       "      <th>physical_configuration</th>\n",
       "      <th>lat</th>\n",
       "      <th>lon</th>\n",
       "      <th>altitude</th>\n",
       "      <th>address</th>\n",
       "      <th>post_code</th>\n",
       "      <th>capacity</th>\n",
       "      <th>rental_methods</th>\n",
       "      <th>groups</th>\n",
       "      <th>obcn</th>\n",
       "      <th>nearby_distance</th>\n",
       "      <th>cross_street</th>\n",
       "    </tr>\n",
       "  </thead>\n",
       "  <tbody>\n",
       "    <tr>\n",
       "      <th>0</th>\n",
       "      <td>2</td>\n",
       "      <td>002 - Retiro I</td>\n",
       "      <td>SMARTLITMAPFRAME</td>\n",
       "      <td>-34.592423</td>\n",
       "      <td>-58.374715</td>\n",
       "      <td>0.0</td>\n",
       "      <td>Ramos Mejia, Jose Maria, Dr. Av. &amp; Del Liberta...</td>\n",
       "      <td>11111</td>\n",
       "      <td>20</td>\n",
       "      <td>[KEY, TRANSITCARD, PHONE]</td>\n",
       "      <td>[RETIRO]</td>\n",
       "      <td></td>\n",
       "      <td>1000.0</td>\n",
       "      <td>NaN</td>\n",
       "    </tr>\n",
       "    <tr>\n",
       "      <th>1</th>\n",
       "      <td>3</td>\n",
       "      <td>003 - ADUANA</td>\n",
       "      <td>SMARTLITMAPFRAME</td>\n",
       "      <td>-34.611032</td>\n",
       "      <td>-58.368260</td>\n",
       "      <td>0.0</td>\n",
       "      <td>Moreno &amp; Av Paseo Colon</td>\n",
       "      <td>11111</td>\n",
       "      <td>20</td>\n",
       "      <td>[KEY, TRANSITCARD, PHONE]</td>\n",
       "      <td>[MONSERRAT]</td>\n",
       "      <td>NaN</td>\n",
       "      <td>1000.0</td>\n",
       "      <td>Moreno &amp; Av Paseo Colon</td>\n",
       "    </tr>\n",
       "  </tbody>\n",
       "</table>\n",
       "</div>"
      ],
      "text/plain": [
       "  station_id            name physical_configuration        lat        lon  \\\n",
       "0          2  002 - Retiro I       SMARTLITMAPFRAME -34.592423 -58.374715   \n",
       "1          3    003 - ADUANA       SMARTLITMAPFRAME -34.611032 -58.368260   \n",
       "\n",
       "   altitude                                            address post_code  \\\n",
       "0       0.0  Ramos Mejia, Jose Maria, Dr. Av. & Del Liberta...     11111   \n",
       "1       0.0                            Moreno & Av Paseo Colon     11111   \n",
       "\n",
       "   capacity             rental_methods       groups obcn  nearby_distance  \\\n",
       "0        20  [KEY, TRANSITCARD, PHONE]     [RETIRO]                1000.0   \n",
       "1        20  [KEY, TRANSITCARD, PHONE]  [MONSERRAT]  NaN           1000.0   \n",
       "\n",
       "              cross_street  \n",
       "0                      NaN  \n",
       "1  Moreno & Av Paseo Colon  "
      ]
     },
     "execution_count": 121,
     "metadata": {},
     "output_type": "execute_result"
    }
   ],
   "source": [
    "df_head=df.head(2).copy()\n",
    "df_head"
   ]
  },
  {
   "cell_type": "code",
   "execution_count": 123,
   "metadata": {},
   "outputs": [
    {
     "data": {
      "text/plain": [
       "[(-34.5924233, -58.3747151), (-34.611032, -58.3682604)]"
      ]
     },
     "execution_count": 123,
     "metadata": {},
     "output_type": "execute_result"
    }
   ],
   "source": [
    "list(zip(df_head['lat'], df_head['lon']))"
   ]
  },
  {
   "cell_type": "code",
   "execution_count": null,
   "metadata": {},
   "outputs": [],
   "source": [
    "df['valor'] = 1\n",
    "\n",
    "mapa = folium.Map(location=[-34.592423, -58.374715], zoom_start=11)\n",
    "mapa_calor = HeatMap(list(zip(df['lat'], \n",
    "                              df['lon'],\n",
    "                              df['valor'])), \n",
    "                              \n",
    ").add_to(mapa)\n",
    "\n",
    "#mapa.add_children(mapa_calor)\n",
    "mapa"
   ]
  }
 ],
 "metadata": {
  "kernelspec": {
   "display_name": "Python 3.7.7 64-bit ('myenv': conda)",
   "language": "python",
   "name": "python37764bitmyenvcondafe769dd8216144648dc9b10a68a8fa01"
  },
  "language_info": {
   "codemirror_mode": {
    "name": "ipython",
    "version": 3
   },
   "file_extension": ".py",
   "mimetype": "text/x-python",
   "name": "python",
   "nbconvert_exporter": "python",
   "pygments_lexer": "ipython3",
   "version": "3.7.9"
  }
 },
 "nbformat": 4,
 "nbformat_minor": 4
}
