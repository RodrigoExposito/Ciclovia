{
  "nbformat": 4,
  "nbformat_minor": 0,
  "metadata": {
    "kernelspec": {
      "display_name": "Python 3.7.7 64-bit ('myenv': conda)",
      "language": "python",
      "name": "python37764bitmyenvcondafe769dd8216144648dc9b10a68a8fa01"
    },
    "language_info": {
      "codemirror_mode": {
        "name": "ipython",
        "version": 3
      },
      "file_extension": ".py",
      "mimetype": "text/x-python",
      "name": "python",
      "nbconvert_exporter": "python",
      "pygments_lexer": "ipython3",
      "version": "3.7.9"
    },
    "colab": {
      "name": "Ciclovias.ipynb",
      "provenance": [],
      "collapsed_sections": [],
      "include_colab_link": true
    }
  },
  "cells": [
    {
      "cell_type": "markdown",
      "metadata": {
        "id": "view-in-github",
        "colab_type": "text"
      },
      "source": [
        "<a href=\"https://colab.research.google.com/github/RodrigoExposito/Ciclovia/blob/main/Ciclovias.ipynb\" target=\"_parent\"><img src=\"https://colab.research.google.com/assets/colab-badge.svg\" alt=\"Open In Colab\"/></a>"
      ]
    },
    {
      "cell_type": "markdown",
      "metadata": {
        "id": "rSksLCRXt7ky"
      },
      "source": [
        "# API transito Gobierno de la ciudad \n",
        "### EcoBici"
      ]
    },
    {
      "cell_type": "code",
      "metadata": {
        "id": "T0KkxoZ8t7kz"
      },
      "source": [
        "import pandas as pd\n",
        "import requests\n",
        "from pandas import json_normalize\n",
        "from folium.plugins import HeatMap"
      ],
      "execution_count": null,
      "outputs": []
    },
    {
      "cell_type": "code",
      "metadata": {
        "id": "Vgddx9cSt7kz",
        "cellView": "form"
      },
      "source": [
        "#@title Credenciales\n",
        "#Coneccion API con credenciales\n",
        "r_client_id='4e9305db6bcb451293f0f2e992b198f6'\n",
        "r_client_secret='ef1b9BcF2b434A39930Bcd943a8AbE0F'"
      ],
      "execution_count": null,
      "outputs": []
    },
    {
      "cell_type": "code",
      "metadata": {
        "id": "5DYBaxgJt7k0"
      },
      "source": [
        "#URL de conexion\n",
        "api = 'https://apitransporte.buenosaires.gob.ar/ecobici/gbfs/stationInformation?'"
      ],
      "execution_count": null,
      "outputs": []
    },
    {
      "cell_type": "code",
      "metadata": {
        "id": "cpr9QxmQt7k0"
      },
      "source": [
        "request = requests.get(api,\n",
        "                      params={\n",
        "                          'client_id': r_client_id,\n",
        "                          'client_secret': r_client_secret}\n",
        "                      )"
      ],
      "execution_count": null,
      "outputs": []
    },
    {
      "cell_type": "code",
      "metadata": {
        "colab": {
          "base_uri": "https://localhost:8080/"
        },
        "id": "FdzfIpuHt7k0",
        "outputId": "a7a91824-899d-44cf-d0a9-a22ae2e67da9"
      },
      "source": [
        "request.status_code"
      ],
      "execution_count": null,
      "outputs": [
        {
          "output_type": "execute_result",
          "data": {
            "text/plain": [
              "200"
            ]
          },
          "metadata": {
            "tags": []
          },
          "execution_count": 5
        }
      ]
    },
    {
      "cell_type": "code",
      "metadata": {
        "colab": {
          "base_uri": "https://localhost:8080/"
        },
        "id": "Bgy-tEXot7k1",
        "outputId": "a5200e51-04bc-4ffd-8a79-a355ecb0586e"
      },
      "source": [
        "type(request)"
      ],
      "execution_count": null,
      "outputs": [
        {
          "output_type": "execute_result",
          "data": {
            "text/plain": [
              "requests.models.Response"
            ]
          },
          "metadata": {
            "tags": []
          },
          "execution_count": 6
        }
      ]
    },
    {
      "cell_type": "code",
      "metadata": {
        "scrolled": true,
        "id": "L18EJfVnt7k1"
      },
      "source": [
        "json = request.json()"
      ],
      "execution_count": null,
      "outputs": []
    },
    {
      "cell_type": "code",
      "metadata": {
        "colab": {
          "base_uri": "https://localhost:8080/"
        },
        "id": "_4Z2dTQqt7k2",
        "outputId": "ad4d3dc0-685d-4536-d241-0e0a5ba90d79"
      },
      "source": [
        "type(json)"
      ],
      "execution_count": null,
      "outputs": [
        {
          "output_type": "execute_result",
          "data": {
            "text/plain": [
              "dict"
            ]
          },
          "metadata": {
            "tags": []
          },
          "execution_count": 8
        }
      ]
    },
    {
      "cell_type": "code",
      "metadata": {
        "id": "BXMTbR1mt7k2"
      },
      "source": [
        "data = json.get('data')"
      ],
      "execution_count": null,
      "outputs": []
    },
    {
      "cell_type": "code",
      "metadata": {
        "colab": {
          "base_uri": "https://localhost:8080/",
          "height": 197
        },
        "id": "R0VjRpqVt7k2",
        "outputId": "96fa7404-5b02-4930-9597-89b2fc740cc9"
      },
      "source": [
        "df = pd.DataFrame(data)\n",
        "df.head()"
      ],
      "execution_count": null,
      "outputs": [
        {
          "output_type": "execute_result",
          "data": {
            "text/html": [
              "<div>\n",
              "<style scoped>\n",
              "    .dataframe tbody tr th:only-of-type {\n",
              "        vertical-align: middle;\n",
              "    }\n",
              "\n",
              "    .dataframe tbody tr th {\n",
              "        vertical-align: top;\n",
              "    }\n",
              "\n",
              "    .dataframe thead th {\n",
              "        text-align: right;\n",
              "    }\n",
              "</style>\n",
              "<table border=\"1\" class=\"dataframe\">\n",
              "  <thead>\n",
              "    <tr style=\"text-align: right;\">\n",
              "      <th></th>\n",
              "      <th>stations</th>\n",
              "    </tr>\n",
              "  </thead>\n",
              "  <tbody>\n",
              "    <tr>\n",
              "      <th>0</th>\n",
              "      <td>{'station_id': '2', 'name': '002 - Retiro I', ...</td>\n",
              "    </tr>\n",
              "    <tr>\n",
              "      <th>1</th>\n",
              "      <td>{'station_id': '3', 'name': '003 - ADUANA', 'p...</td>\n",
              "    </tr>\n",
              "    <tr>\n",
              "      <th>2</th>\n",
              "      <td>{'station_id': '4', 'name': '004 - Plaza Roma'...</td>\n",
              "    </tr>\n",
              "    <tr>\n",
              "      <th>3</th>\n",
              "      <td>{'station_id': '5', 'name': '005 - Plaza Itali...</td>\n",
              "    </tr>\n",
              "    <tr>\n",
              "      <th>4</th>\n",
              "      <td>{'station_id': '6', 'name': '006 - Parque Leza...</td>\n",
              "    </tr>\n",
              "  </tbody>\n",
              "</table>\n",
              "</div>"
            ],
            "text/plain": [
              "                                            stations\n",
              "0  {'station_id': '2', 'name': '002 - Retiro I', ...\n",
              "1  {'station_id': '3', 'name': '003 - ADUANA', 'p...\n",
              "2  {'station_id': '4', 'name': '004 - Plaza Roma'...\n",
              "3  {'station_id': '5', 'name': '005 - Plaza Itali...\n",
              "4  {'station_id': '6', 'name': '006 - Parque Leza..."
            ]
          },
          "metadata": {
            "tags": []
          },
          "execution_count": 10
        }
      ]
    },
    {
      "cell_type": "code",
      "metadata": {
        "id": "K7VTlvoUt7k2"
      },
      "source": [
        "df = json_normalize(df['stations'])"
      ],
      "execution_count": null,
      "outputs": []
    },
    {
      "cell_type": "code",
      "metadata": {
        "colab": {
          "base_uri": "https://localhost:8080/",
          "height": 397
        },
        "id": "w-S9cBovt7k2",
        "outputId": "d30b83d7-9a9f-48f3-e3b6-bd1a24d7166a"
      },
      "source": [
        "df.head()"
      ],
      "execution_count": null,
      "outputs": [
        {
          "output_type": "execute_result",
          "data": {
            "text/html": [
              "<div>\n",
              "<style scoped>\n",
              "    .dataframe tbody tr th:only-of-type {\n",
              "        vertical-align: middle;\n",
              "    }\n",
              "\n",
              "    .dataframe tbody tr th {\n",
              "        vertical-align: top;\n",
              "    }\n",
              "\n",
              "    .dataframe thead th {\n",
              "        text-align: right;\n",
              "    }\n",
              "</style>\n",
              "<table border=\"1\" class=\"dataframe\">\n",
              "  <thead>\n",
              "    <tr style=\"text-align: right;\">\n",
              "      <th></th>\n",
              "      <th>station_id</th>\n",
              "      <th>name</th>\n",
              "      <th>physical_configuration</th>\n",
              "      <th>lat</th>\n",
              "      <th>lon</th>\n",
              "      <th>altitude</th>\n",
              "      <th>address</th>\n",
              "      <th>post_code</th>\n",
              "      <th>capacity</th>\n",
              "      <th>rental_methods</th>\n",
              "      <th>groups</th>\n",
              "      <th>obcn</th>\n",
              "      <th>nearby_distance</th>\n",
              "      <th>cross_street</th>\n",
              "    </tr>\n",
              "  </thead>\n",
              "  <tbody>\n",
              "    <tr>\n",
              "      <th>0</th>\n",
              "      <td>2</td>\n",
              "      <td>002 - Retiro I</td>\n",
              "      <td>SMARTLITMAPFRAME</td>\n",
              "      <td>-34.592423</td>\n",
              "      <td>-58.374715</td>\n",
              "      <td>0.0</td>\n",
              "      <td>Ramos Mejia, Jose Maria, Dr. Av. &amp; Del Liberta...</td>\n",
              "      <td>11111</td>\n",
              "      <td>20</td>\n",
              "      <td>[KEY, TRANSITCARD, PHONE]</td>\n",
              "      <td>[RETIRO]</td>\n",
              "      <td></td>\n",
              "      <td>1000.0</td>\n",
              "      <td>NaN</td>\n",
              "    </tr>\n",
              "    <tr>\n",
              "      <th>1</th>\n",
              "      <td>3</td>\n",
              "      <td>003 - ADUANA</td>\n",
              "      <td>SMARTLITMAPFRAME</td>\n",
              "      <td>-34.611032</td>\n",
              "      <td>-58.368260</td>\n",
              "      <td>0.0</td>\n",
              "      <td>Moreno &amp; Av Paseo Colon</td>\n",
              "      <td>11111</td>\n",
              "      <td>20</td>\n",
              "      <td>[KEY, TRANSITCARD, PHONE]</td>\n",
              "      <td>[MONSERRAT]</td>\n",
              "      <td>NaN</td>\n",
              "      <td>1000.0</td>\n",
              "      <td>Moreno &amp; Av Paseo Colon</td>\n",
              "    </tr>\n",
              "    <tr>\n",
              "      <th>2</th>\n",
              "      <td>4</td>\n",
              "      <td>004 - Plaza Roma</td>\n",
              "      <td>SMARTLITMAPFRAME</td>\n",
              "      <td>-34.601822</td>\n",
              "      <td>-58.368781</td>\n",
              "      <td>0.0</td>\n",
              "      <td>Lavalle &amp; Bouchard</td>\n",
              "      <td>11111</td>\n",
              "      <td>20</td>\n",
              "      <td>[KEY, TRANSITCARD, PHONE]</td>\n",
              "      <td>[SAN NICOLAS]</td>\n",
              "      <td></td>\n",
              "      <td>1000.0</td>\n",
              "      <td>NaN</td>\n",
              "    </tr>\n",
              "    <tr>\n",
              "      <th>3</th>\n",
              "      <td>5</td>\n",
              "      <td>005 - Plaza Italia</td>\n",
              "      <td>SMARTLITMAPFRAME</td>\n",
              "      <td>-34.580550</td>\n",
              "      <td>-58.420954</td>\n",
              "      <td>0.0</td>\n",
              "      <td>Av. Sarmiento 2601</td>\n",
              "      <td>1111</td>\n",
              "      <td>42</td>\n",
              "      <td>[KEY, TRANSITCARD, PHONE]</td>\n",
              "      <td>[PALERMO]</td>\n",
              "      <td></td>\n",
              "      <td>1000.0</td>\n",
              "      <td>NaN</td>\n",
              "    </tr>\n",
              "    <tr>\n",
              "      <th>4</th>\n",
              "      <td>6</td>\n",
              "      <td>006 - Parque Lezama</td>\n",
              "      <td>SMARTLITMAPFRAME</td>\n",
              "      <td>-34.628526</td>\n",
              "      <td>-58.369758</td>\n",
              "      <td>0.0</td>\n",
              "      <td>Avenida Martin Garcia, 295</td>\n",
              "      <td>1111</td>\n",
              "      <td>20</td>\n",
              "      <td>[KEY, TRANSITCARD, PHONE]</td>\n",
              "      <td>[SAN TELMO]</td>\n",
              "      <td></td>\n",
              "      <td>1000.0</td>\n",
              "      <td>NaN</td>\n",
              "    </tr>\n",
              "  </tbody>\n",
              "</table>\n",
              "</div>"
            ],
            "text/plain": [
              "  station_id                 name  ... nearby_distance             cross_street\n",
              "0          2       002 - Retiro I  ...          1000.0                      NaN\n",
              "1          3         003 - ADUANA  ...          1000.0  Moreno & Av Paseo Colon\n",
              "2          4     004 - Plaza Roma  ...          1000.0                      NaN\n",
              "3          5   005 - Plaza Italia  ...          1000.0                      NaN\n",
              "4          6  006 - Parque Lezama  ...          1000.0                      NaN\n",
              "\n",
              "[5 rows x 14 columns]"
            ]
          },
          "metadata": {
            "tags": []
          },
          "execution_count": 12
        }
      ]
    },
    {
      "cell_type": "code",
      "metadata": {
        "colab": {
          "base_uri": "https://localhost:8080/",
          "height": 467
        },
        "id": "mVDhhgkxt7k2",
        "outputId": "328a4bd3-e935-4d2a-a656-6c15cc626c82"
      },
      "source": [
        "df.tail()"
      ],
      "execution_count": null,
      "outputs": [
        {
          "output_type": "execute_result",
          "data": {
            "text/html": [
              "<div>\n",
              "<style scoped>\n",
              "    .dataframe tbody tr th:only-of-type {\n",
              "        vertical-align: middle;\n",
              "    }\n",
              "\n",
              "    .dataframe tbody tr th {\n",
              "        vertical-align: top;\n",
              "    }\n",
              "\n",
              "    .dataframe thead th {\n",
              "        text-align: right;\n",
              "    }\n",
              "</style>\n",
              "<table border=\"1\" class=\"dataframe\">\n",
              "  <thead>\n",
              "    <tr style=\"text-align: right;\">\n",
              "      <th></th>\n",
              "      <th>station_id</th>\n",
              "      <th>name</th>\n",
              "      <th>physical_configuration</th>\n",
              "      <th>lat</th>\n",
              "      <th>lon</th>\n",
              "      <th>altitude</th>\n",
              "      <th>address</th>\n",
              "      <th>post_code</th>\n",
              "      <th>capacity</th>\n",
              "      <th>rental_methods</th>\n",
              "      <th>groups</th>\n",
              "      <th>obcn</th>\n",
              "      <th>nearby_distance</th>\n",
              "      <th>cross_street</th>\n",
              "    </tr>\n",
              "  </thead>\n",
              "  <tbody>\n",
              "    <tr>\n",
              "      <th>194</th>\n",
              "      <td>435</td>\n",
              "      <td>227 -Club Ciudad de Buenos Aires</td>\n",
              "      <td>SMARTLITMAPFRAME</td>\n",
              "      <td>-34.544503</td>\n",
              "      <td>-58.459499</td>\n",
              "      <td>0.0</td>\n",
              "      <td>Miguel Sanchez y Av Libertadores</td>\n",
              "      <td>1111</td>\n",
              "      <td>16</td>\n",
              "      <td>[KEY, TRANSITCARD, PHONE]</td>\n",
              "      <td>[Nuñez]</td>\n",
              "      <td></td>\n",
              "      <td>1.0</td>\n",
              "      <td>NaN</td>\n",
              "    </tr>\n",
              "    <tr>\n",
              "      <th>195</th>\n",
              "      <td>441</td>\n",
              "      <td>016 - Legislatura</td>\n",
              "      <td>SMARTLITMAPFRAME</td>\n",
              "      <td>-34.609801</td>\n",
              "      <td>-58.374800</td>\n",
              "      <td>0.0</td>\n",
              "      <td>169 Peru &amp; Roca, Julio A., Presidente Diagonal...</td>\n",
              "      <td>1111</td>\n",
              "      <td>20</td>\n",
              "      <td>[KEY, TRANSITCARD, PHONE]</td>\n",
              "      <td>[MONSERRAT]</td>\n",
              "      <td></td>\n",
              "      <td>1000.0</td>\n",
              "      <td>NaN</td>\n",
              "    </tr>\n",
              "    <tr>\n",
              "      <th>196</th>\n",
              "      <td>444</td>\n",
              "      <td>061-Ministerio de Economia</td>\n",
              "      <td>SMARTLITMAPFRAME</td>\n",
              "      <td>-34.608936</td>\n",
              "      <td>-58.370716</td>\n",
              "      <td>0.0</td>\n",
              "      <td>Balcarce &amp; Yrigoyen, Hipolito Av.</td>\n",
              "      <td>1111</td>\n",
              "      <td>24</td>\n",
              "      <td>[KEY, TRANSITCARD, PHONE]</td>\n",
              "      <td>[SAN NICOLAS]</td>\n",
              "      <td></td>\n",
              "      <td>1000.0</td>\n",
              "      <td>NaN</td>\n",
              "    </tr>\n",
              "    <tr>\n",
              "      <th>197</th>\n",
              "      <td>448</td>\n",
              "      <td>393 - Barrio 31</td>\n",
              "      <td>SMARTLITMAPFRAME</td>\n",
              "      <td>-34.582422</td>\n",
              "      <td>-58.378862</td>\n",
              "      <td>0.0</td>\n",
              "      <td>Carlos H. Perette 11</td>\n",
              "      <td>1111</td>\n",
              "      <td>24</td>\n",
              "      <td>[KEY, TRANSITCARD, PHONE]</td>\n",
              "      <td>[RETIRO]</td>\n",
              "      <td></td>\n",
              "      <td>1000.0</td>\n",
              "      <td>NaN</td>\n",
              "    </tr>\n",
              "    <tr>\n",
              "      <th>198</th>\n",
              "      <td>449</td>\n",
              "      <td>352 - San Jose de Flores</td>\n",
              "      <td>SMARTLITMAPFRAME</td>\n",
              "      <td>-34.629083</td>\n",
              "      <td>-58.463251</td>\n",
              "      <td>0.0</td>\n",
              "      <td>Avenida Rivadavia y Fray Cayetano</td>\n",
              "      <td>1111</td>\n",
              "      <td>24</td>\n",
              "      <td>[KEY, TRANSITCARD, PHONE]</td>\n",
              "      <td>[FLORES]</td>\n",
              "      <td></td>\n",
              "      <td>1000.0</td>\n",
              "      <td>NaN</td>\n",
              "    </tr>\n",
              "  </tbody>\n",
              "</table>\n",
              "</div>"
            ],
            "text/plain": [
              "    station_id                              name  ... nearby_distance  cross_street\n",
              "194        435  227 -Club Ciudad de Buenos Aires  ...             1.0           NaN\n",
              "195        441                 016 - Legislatura  ...          1000.0           NaN\n",
              "196        444        061-Ministerio de Economia  ...          1000.0           NaN\n",
              "197        448                   393 - Barrio 31  ...          1000.0           NaN\n",
              "198        449          352 - San Jose de Flores  ...          1000.0           NaN\n",
              "\n",
              "[5 rows x 14 columns]"
            ]
          },
          "metadata": {
            "tags": []
          },
          "execution_count": 13
        }
      ]
    },
    {
      "cell_type": "code",
      "metadata": {
        "colab": {
          "base_uri": "https://localhost:8080/",
          "height": 35
        },
        "id": "bCcAXaZLt7k2",
        "outputId": "07adca7a-de90-4da0-fcbf-6a891fc5a6af"
      },
      "source": [
        "api = 'https://apitransporte.buenosaires.gob.ar/ecobici/gbfs/stationInformation?'\n",
        "api"
      ],
      "execution_count": null,
      "outputs": [
        {
          "output_type": "execute_result",
          "data": {
            "application/vnd.google.colaboratory.intrinsic+json": {
              "type": "string"
            },
            "text/plain": [
              "'https://apitransporte.buenosaires.gob.ar/ecobici/gbfs/stationInformation?'"
            ]
          },
          "metadata": {
            "tags": []
          },
          "execution_count": 14
        }
      ]
    },
    {
      "cell_type": "code",
      "metadata": {
        "id": "5NKS3RPXt7k3"
      },
      "source": [
        "def get_bici(empresa):\n",
        "    api = 'https://apitransporte.buenosaires.gob.ar/ecobici/gbfs/stationInformation?'\n",
        "\n",
        "    request = requests.get(api, \n",
        "                         params={\n",
        "                            'client_id': p_client_id, \n",
        "                            'client_secret': p_client_secret}\n",
        "                         )\n",
        "    json = request.json()\n",
        "    data = json.get('data')\n",
        "    df = pd.DataFrame(data)\n",
        "    df = json_normalize(data['stations'])\n",
        "\n",
        "    df['empresa'] = empresa\n",
        "\n",
        "    return df"
      ],
      "execution_count": null,
      "outputs": []
    },
    {
      "cell_type": "code",
      "metadata": {
        "colab": {
          "base_uri": "https://localhost:8080/",
          "height": 191
        },
        "id": "x3aCak_pt7k3",
        "outputId": "41d59633-3e2c-4996-8a09-f6648f513692"
      },
      "source": [
        "df.head(2)"
      ],
      "execution_count": null,
      "outputs": [
        {
          "output_type": "execute_result",
          "data": {
            "text/html": [
              "<div>\n",
              "<style scoped>\n",
              "    .dataframe tbody tr th:only-of-type {\n",
              "        vertical-align: middle;\n",
              "    }\n",
              "\n",
              "    .dataframe tbody tr th {\n",
              "        vertical-align: top;\n",
              "    }\n",
              "\n",
              "    .dataframe thead th {\n",
              "        text-align: right;\n",
              "    }\n",
              "</style>\n",
              "<table border=\"1\" class=\"dataframe\">\n",
              "  <thead>\n",
              "    <tr style=\"text-align: right;\">\n",
              "      <th></th>\n",
              "      <th>station_id</th>\n",
              "      <th>name</th>\n",
              "      <th>physical_configuration</th>\n",
              "      <th>lat</th>\n",
              "      <th>lon</th>\n",
              "      <th>altitude</th>\n",
              "      <th>address</th>\n",
              "      <th>post_code</th>\n",
              "      <th>capacity</th>\n",
              "      <th>rental_methods</th>\n",
              "      <th>groups</th>\n",
              "      <th>obcn</th>\n",
              "      <th>nearby_distance</th>\n",
              "      <th>cross_street</th>\n",
              "    </tr>\n",
              "  </thead>\n",
              "  <tbody>\n",
              "    <tr>\n",
              "      <th>0</th>\n",
              "      <td>2</td>\n",
              "      <td>002 - Retiro I</td>\n",
              "      <td>SMARTLITMAPFRAME</td>\n",
              "      <td>-34.592423</td>\n",
              "      <td>-58.374715</td>\n",
              "      <td>0.0</td>\n",
              "      <td>Ramos Mejia, Jose Maria, Dr. Av. &amp; Del Liberta...</td>\n",
              "      <td>11111</td>\n",
              "      <td>20</td>\n",
              "      <td>[KEY, TRANSITCARD, PHONE]</td>\n",
              "      <td>[RETIRO]</td>\n",
              "      <td></td>\n",
              "      <td>1000.0</td>\n",
              "      <td>NaN</td>\n",
              "    </tr>\n",
              "    <tr>\n",
              "      <th>1</th>\n",
              "      <td>3</td>\n",
              "      <td>003 - ADUANA</td>\n",
              "      <td>SMARTLITMAPFRAME</td>\n",
              "      <td>-34.611032</td>\n",
              "      <td>-58.368260</td>\n",
              "      <td>0.0</td>\n",
              "      <td>Moreno &amp; Av Paseo Colon</td>\n",
              "      <td>11111</td>\n",
              "      <td>20</td>\n",
              "      <td>[KEY, TRANSITCARD, PHONE]</td>\n",
              "      <td>[MONSERRAT]</td>\n",
              "      <td>NaN</td>\n",
              "      <td>1000.0</td>\n",
              "      <td>Moreno &amp; Av Paseo Colon</td>\n",
              "    </tr>\n",
              "  </tbody>\n",
              "</table>\n",
              "</div>"
            ],
            "text/plain": [
              "  station_id            name  ... nearby_distance             cross_street\n",
              "0          2  002 - Retiro I  ...          1000.0                      NaN\n",
              "1          3    003 - ADUANA  ...          1000.0  Moreno & Av Paseo Colon\n",
              "\n",
              "[2 rows x 14 columns]"
            ]
          },
          "metadata": {
            "tags": []
          },
          "execution_count": 16
        }
      ]
    },
    {
      "cell_type": "code",
      "metadata": {
        "colab": {
          "base_uri": "https://localhost:8080/"
        },
        "id": "5isIhBnht7k3",
        "outputId": "e7f40b82-a13c-4ded-e1a6-e11ef542f855"
      },
      "source": [
        "df.columns"
      ],
      "execution_count": null,
      "outputs": [
        {
          "output_type": "execute_result",
          "data": {
            "text/plain": [
              "Index(['station_id', 'name', 'physical_configuration', 'lat', 'lon',\n",
              "       'altitude', 'address', 'post_code', 'capacity', 'rental_methods',\n",
              "       'groups', 'obcn', 'nearby_distance', 'cross_street'],\n",
              "      dtype='object')"
            ]
          },
          "metadata": {
            "tags": []
          },
          "execution_count": 17
        }
      ]
    },
    {
      "cell_type": "code",
      "metadata": {
        "colab": {
          "base_uri": "https://localhost:8080/"
        },
        "id": "oqaAmWWZt7k3",
        "outputId": "ed2a7020-d524-4c23-eb20-9f64b926d540"
      },
      "source": [
        "df.shape"
      ],
      "execution_count": null,
      "outputs": [
        {
          "output_type": "execute_result",
          "data": {
            "text/plain": [
              "(199, 14)"
            ]
          },
          "metadata": {
            "tags": []
          },
          "execution_count": 18
        }
      ]
    },
    {
      "cell_type": "code",
      "metadata": {
        "colab": {
          "base_uri": "https://localhost:8080/"
        },
        "id": "gDsDfX1Ot7k3",
        "outputId": "7ec723f7-b590-48e9-8868-f7277bc5f87e"
      },
      "source": [
        "df.info"
      ],
      "execution_count": null,
      "outputs": [
        {
          "output_type": "execute_result",
          "data": {
            "text/plain": [
              "<bound method DataFrame.info of     station_id  ...             cross_street\n",
              "0            2  ...                      NaN\n",
              "1            3  ...  Moreno & Av Paseo Colon\n",
              "2            4  ...                      NaN\n",
              "3            5  ...                      NaN\n",
              "4            6  ...                      NaN\n",
              "..         ...  ...                      ...\n",
              "194        435  ...                      NaN\n",
              "195        441  ...                      NaN\n",
              "196        444  ...                      NaN\n",
              "197        448  ...                      NaN\n",
              "198        449  ...                      NaN\n",
              "\n",
              "[199 rows x 14 columns]>"
            ]
          },
          "metadata": {
            "tags": []
          },
          "execution_count": 19
        }
      ]
    },
    {
      "cell_type": "code",
      "metadata": {
        "colab": {
          "base_uri": "https://localhost:8080/"
        },
        "id": "KWzyRklwt7k3",
        "outputId": "a192133d-93e8-4af9-c2e6-f655f7b7ff90"
      },
      "source": [
        "df.describe"
      ],
      "execution_count": null,
      "outputs": [
        {
          "output_type": "execute_result",
          "data": {
            "text/plain": [
              "<bound method NDFrame.describe of     station_id  ...             cross_street\n",
              "0            2  ...                      NaN\n",
              "1            3  ...  Moreno & Av Paseo Colon\n",
              "2            4  ...                      NaN\n",
              "3            5  ...                      NaN\n",
              "4            6  ...                      NaN\n",
              "..         ...  ...                      ...\n",
              "194        435  ...                      NaN\n",
              "195        441  ...                      NaN\n",
              "196        444  ...                      NaN\n",
              "197        448  ...                      NaN\n",
              "198        449  ...                      NaN\n",
              "\n",
              "[199 rows x 14 columns]>"
            ]
          },
          "metadata": {
            "tags": []
          },
          "execution_count": 20
        }
      ]
    },
    {
      "cell_type": "code",
      "metadata": {
        "colab": {
          "base_uri": "https://localhost:8080/",
          "height": 647
        },
        "id": "kTl0pVy2t7k3",
        "outputId": "7f0d11d9-53bb-4cee-d496-911c3f557ed7"
      },
      "source": [
        "df_geo = df[['station_id', 'name', 'groups','address','lat','lon']]\n",
        "df_geo.head(20)"
      ],
      "execution_count": null,
      "outputs": [
        {
          "output_type": "execute_result",
          "data": {
            "text/html": [
              "<div>\n",
              "<style scoped>\n",
              "    .dataframe tbody tr th:only-of-type {\n",
              "        vertical-align: middle;\n",
              "    }\n",
              "\n",
              "    .dataframe tbody tr th {\n",
              "        vertical-align: top;\n",
              "    }\n",
              "\n",
              "    .dataframe thead th {\n",
              "        text-align: right;\n",
              "    }\n",
              "</style>\n",
              "<table border=\"1\" class=\"dataframe\">\n",
              "  <thead>\n",
              "    <tr style=\"text-align: right;\">\n",
              "      <th></th>\n",
              "      <th>station_id</th>\n",
              "      <th>name</th>\n",
              "      <th>groups</th>\n",
              "      <th>address</th>\n",
              "      <th>lat</th>\n",
              "      <th>lon</th>\n",
              "    </tr>\n",
              "  </thead>\n",
              "  <tbody>\n",
              "    <tr>\n",
              "      <th>0</th>\n",
              "      <td>2</td>\n",
              "      <td>002 - Retiro I</td>\n",
              "      <td>[RETIRO]</td>\n",
              "      <td>Ramos Mejia, Jose Maria, Dr. Av. &amp; Del Liberta...</td>\n",
              "      <td>-34.592423</td>\n",
              "      <td>-58.374715</td>\n",
              "    </tr>\n",
              "    <tr>\n",
              "      <th>1</th>\n",
              "      <td>3</td>\n",
              "      <td>003 - ADUANA</td>\n",
              "      <td>[MONSERRAT]</td>\n",
              "      <td>Moreno &amp; Av Paseo Colon</td>\n",
              "      <td>-34.611032</td>\n",
              "      <td>-58.368260</td>\n",
              "    </tr>\n",
              "    <tr>\n",
              "      <th>2</th>\n",
              "      <td>4</td>\n",
              "      <td>004 - Plaza Roma</td>\n",
              "      <td>[SAN NICOLAS]</td>\n",
              "      <td>Lavalle &amp; Bouchard</td>\n",
              "      <td>-34.601822</td>\n",
              "      <td>-58.368781</td>\n",
              "    </tr>\n",
              "    <tr>\n",
              "      <th>3</th>\n",
              "      <td>5</td>\n",
              "      <td>005 - Plaza Italia</td>\n",
              "      <td>[PALERMO]</td>\n",
              "      <td>Av. Sarmiento 2601</td>\n",
              "      <td>-34.580550</td>\n",
              "      <td>-58.420954</td>\n",
              "    </tr>\n",
              "    <tr>\n",
              "      <th>4</th>\n",
              "      <td>6</td>\n",
              "      <td>006 - Parque Lezama</td>\n",
              "      <td>[SAN TELMO]</td>\n",
              "      <td>Avenida Martin Garcia, 295</td>\n",
              "      <td>-34.628526</td>\n",
              "      <td>-58.369758</td>\n",
              "    </tr>\n",
              "    <tr>\n",
              "      <th>5</th>\n",
              "      <td>7</td>\n",
              "      <td>007 - OBELISCO</td>\n",
              "      <td>[SAN NICOLAS]</td>\n",
              "      <td>CARLOS PELEGRINI 215</td>\n",
              "      <td>-34.606498</td>\n",
              "      <td>-58.381098</td>\n",
              "    </tr>\n",
              "    <tr>\n",
              "      <th>6</th>\n",
              "      <td>8</td>\n",
              "      <td>008 - Congreso</td>\n",
              "      <td>[SAN NICOLAS]</td>\n",
              "      <td>Cevallos, Virrey&amp; Yrigoyen, Hipolito Av.</td>\n",
              "      <td>-34.609422</td>\n",
              "      <td>-58.389336</td>\n",
              "    </tr>\n",
              "    <tr>\n",
              "      <th>7</th>\n",
              "      <td>9</td>\n",
              "      <td>009 - Parque Las Heras</td>\n",
              "      <td>[PALERMO]</td>\n",
              "      <td>2300 Diaz, Cnel. Av. &amp; French</td>\n",
              "      <td>-34.585443</td>\n",
              "      <td>-58.407741</td>\n",
              "    </tr>\n",
              "    <tr>\n",
              "      <th>8</th>\n",
              "      <td>12</td>\n",
              "      <td>012 - Plaza Vicente Lopez</td>\n",
              "      <td>[RECOLETA]</td>\n",
              "      <td>Parana &amp; Juncal</td>\n",
              "      <td>-34.592710</td>\n",
              "      <td>-58.388807</td>\n",
              "    </tr>\n",
              "    <tr>\n",
              "      <th>9</th>\n",
              "      <td>13</td>\n",
              "      <td>013 - ONCE</td>\n",
              "      <td>[BALVANERA]</td>\n",
              "      <td>Av. Pueyrredon &amp; Av. Rivadavia</td>\n",
              "      <td>-34.610090</td>\n",
              "      <td>-58.406000</td>\n",
              "    </tr>\n",
              "    <tr>\n",
              "      <th>10</th>\n",
              "      <td>14</td>\n",
              "      <td>014 - Pacifico</td>\n",
              "      <td>[PALERMO]</td>\n",
              "      <td>Santa Fe Av. &amp; Bullrich, Int. Av.</td>\n",
              "      <td>-34.577424</td>\n",
              "      <td>-58.426387</td>\n",
              "    </tr>\n",
              "    <tr>\n",
              "      <th>11</th>\n",
              "      <td>17</td>\n",
              "      <td>017 - Plaza Almagro</td>\n",
              "      <td>[ALMAGRO]</td>\n",
              "      <td>441 Bulnes &amp; Peron, Juan Domingo, Tte. General</td>\n",
              "      <td>-34.606410</td>\n",
              "      <td>-58.418731</td>\n",
              "    </tr>\n",
              "    <tr>\n",
              "      <th>12</th>\n",
              "      <td>20</td>\n",
              "      <td>020 - Distrito Audiovisual</td>\n",
              "      <td>[COLEGIALES]</td>\n",
              "      <td>Zapiola &amp; Dorrego</td>\n",
              "      <td>-34.579862</td>\n",
              "      <td>-58.441776</td>\n",
              "    </tr>\n",
              "    <tr>\n",
              "      <th>13</th>\n",
              "      <td>21</td>\n",
              "      <td>021 - Parque Patricios</td>\n",
              "      <td>[PARQUE PATRICIOS]</td>\n",
              "      <td>Iguazu &amp; Uspallata</td>\n",
              "      <td>-34.640111</td>\n",
              "      <td>-58.406432</td>\n",
              "    </tr>\n",
              "    <tr>\n",
              "      <th>14</th>\n",
              "      <td>22</td>\n",
              "      <td>022 - Arenales</td>\n",
              "      <td>[RETIRO]</td>\n",
              "      <td>Cerrito &amp; Arenales</td>\n",
              "      <td>-34.593863</td>\n",
              "      <td>-58.382550</td>\n",
              "    </tr>\n",
              "    <tr>\n",
              "      <th>15</th>\n",
              "      <td>23</td>\n",
              "      <td>023 - Suipacha</td>\n",
              "      <td>[SAN NICOLAS]</td>\n",
              "      <td>Suipacha &amp; Viamonte, 709</td>\n",
              "      <td>-34.600139</td>\n",
              "      <td>-58.379836</td>\n",
              "    </tr>\n",
              "    <tr>\n",
              "      <th>16</th>\n",
              "      <td>24</td>\n",
              "      <td>024 - ALSINA</td>\n",
              "      <td>[MONSERRAT]</td>\n",
              "      <td>Adolfo Alsina&amp; Bernardo De Irigoyen</td>\n",
              "      <td>-34.610583</td>\n",
              "      <td>-58.380894</td>\n",
              "    </tr>\n",
              "    <tr>\n",
              "      <th>17</th>\n",
              "      <td>25</td>\n",
              "      <td>025 - Plaza Guemes</td>\n",
              "      <td>[PALERMO]</td>\n",
              "      <td>Salguero, Jeronimo &amp; Mansilla, Lucio Norberto,...</td>\n",
              "      <td>-34.589427</td>\n",
              "      <td>-58.416118</td>\n",
              "    </tr>\n",
              "    <tr>\n",
              "      <th>18</th>\n",
              "      <td>26</td>\n",
              "      <td>026 - JUANA MANSO I</td>\n",
              "      <td>[PUERTO MADERO]</td>\n",
              "      <td>Manso Juana &amp; De La Barra, Emma</td>\n",
              "      <td>-34.600752</td>\n",
              "      <td>-58.363872</td>\n",
              "    </tr>\n",
              "    <tr>\n",
              "      <th>19</th>\n",
              "      <td>27</td>\n",
              "      <td>027 - Montevideo</td>\n",
              "      <td>[SAN NICOLAS]</td>\n",
              "      <td>Cordoba Av. &amp; Montevideo</td>\n",
              "      <td>-34.599068</td>\n",
              "      <td>-58.390089</td>\n",
              "    </tr>\n",
              "  </tbody>\n",
              "</table>\n",
              "</div>"
            ],
            "text/plain": [
              "   station_id                        name  ...        lat        lon\n",
              "0           2              002 - Retiro I  ... -34.592423 -58.374715\n",
              "1           3                003 - ADUANA  ... -34.611032 -58.368260\n",
              "2           4            004 - Plaza Roma  ... -34.601822 -58.368781\n",
              "3           5          005 - Plaza Italia  ... -34.580550 -58.420954\n",
              "4           6         006 - Parque Lezama  ... -34.628526 -58.369758\n",
              "5           7              007 - OBELISCO  ... -34.606498 -58.381098\n",
              "6           8              008 - Congreso  ... -34.609422 -58.389336\n",
              "7           9      009 - Parque Las Heras  ... -34.585443 -58.407741\n",
              "8          12   012 - Plaza Vicente Lopez  ... -34.592710 -58.388807\n",
              "9          13                  013 - ONCE  ... -34.610090 -58.406000\n",
              "10         14              014 - Pacifico  ... -34.577424 -58.426387\n",
              "11         17         017 - Plaza Almagro  ... -34.606410 -58.418731\n",
              "12         20  020 - Distrito Audiovisual  ... -34.579862 -58.441776\n",
              "13         21      021 - Parque Patricios  ... -34.640111 -58.406432\n",
              "14         22              022 - Arenales  ... -34.593863 -58.382550\n",
              "15         23              023 - Suipacha  ... -34.600139 -58.379836\n",
              "16         24                024 - ALSINA  ... -34.610583 -58.380894\n",
              "17         25          025 - Plaza Guemes  ... -34.589427 -58.416118\n",
              "18         26         026 - JUANA MANSO I  ... -34.600752 -58.363872\n",
              "19         27            027 - Montevideo  ... -34.599068 -58.390089\n",
              "\n",
              "[20 rows x 6 columns]"
            ]
          },
          "metadata": {
            "tags": []
          },
          "execution_count": 21
        }
      ]
    },
    {
      "cell_type": "code",
      "metadata": {
        "id": "jLw5bvSRt7k3"
      },
      "source": [
        "import folium"
      ],
      "execution_count": null,
      "outputs": []
    },
    {
      "cell_type": "code",
      "metadata": {
        "colab": {
          "base_uri": "https://localhost:8080/",
          "height": 854
        },
        "id": "jb2vEu1kt7k3",
        "outputId": "fde7edee-442f-47f1-bacd-98d5da8306fa"
      },
      "source": [
        "mapa = folium.Map(location=[-34.592423,-58.374715], zoom_start=11)\n",
        "mapa"
      ],
      "execution_count": null,
      "outputs": [
        {
          "output_type": "execute_result",
          "data": {
            "text/html": [
              "<div style=\"width:100%;\"><div style=\"position:relative;width:100%;height:0;padding-bottom:60%;\"><span style=\"color:#565656\">Make this Notebook Trusted to load map: File -> Trust Notebook</span><iframe src=\"about:blank\" style=\"position:absolute;width:100%;height:100%;left:0;top:0;border:none !important;\" data-html=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 onload=\"this.contentDocument.open();this.contentDocument.write(atob(this.getAttribute('data-html')));this.contentDocument.close();\" allowfullscreen webkitallowfullscreen mozallowfullscreen></iframe></div></div>"
            ],
            "text/plain": [
              "<folium.folium.Map at 0x7fb711dfab00>"
            ]
          },
          "metadata": {
            "tags": []
          },
          "execution_count": 23
        }
      ]
    },
    {
      "cell_type": "code",
      "metadata": {
        "colab": {
          "base_uri": "https://localhost:8080/",
          "height": 854
        },
        "id": "YtgpWf2gt7k4",
        "outputId": "9806c083-bdf9-4a8d-d6a2-a50170e71786"
      },
      "source": [
        "folium.Marker([-34.592423,-58.374715]).add_to(mapa)\n",
        "\n",
        "mapa"
      ],
      "execution_count": null,
      "outputs": [
        {
          "output_type": "execute_result",
          "data": {
            "text/html": [
              "<div style=\"width:100%;\"><div style=\"position:relative;width:100%;height:0;padding-bottom:60%;\"><span style=\"color:#565656\">Make this Notebook Trusted to load map: File -> Trust Notebook</span><iframe src=\"about:blank\" style=\"position:absolute;width:100%;height:100%;left:0;top:0;border:none !important;\" data-html=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 onload=\"this.contentDocument.open();this.contentDocument.write(atob(this.getAttribute('data-html')));this.contentDocument.close();\" allowfullscreen webkitallowfullscreen mozallowfullscreen></iframe></div></div>"
            ],
            "text/plain": [
              "<folium.folium.Map at 0x7fb711dfab00>"
            ]
          },
          "metadata": {
            "tags": []
          },
          "execution_count": 24
        }
      ]
    },
    {
      "cell_type": "code",
      "metadata": {
        "colab": {
          "base_uri": "https://localhost:8080/",
          "height": 854
        },
        "id": "eot2veait7k4",
        "outputId": "f53f81e6-3766-400f-aa3c-0537351a93f3"
      },
      "source": [
        "folium.Marker([-34.629083, -58.463251], \n",
        "              popup='Ultima estación'\n",
        "              ).add_to(mapa)\n",
        "folium.Marker([-34.592710, -58.388807], \n",
        "              popup='Lo viste genna', \n",
        "              icon=folium.Icon(color='darkred', icon='fas fa-american-sign-language-interpreting', prefix='fa' )\n",
        "              ).add_to(mapa)\n",
        "folium.Marker([-34.592423,-58.374715]).add_to(mapa)\n",
        "\n",
        "mapa"
      ],
      "execution_count": null,
      "outputs": [
        {
          "output_type": "execute_result",
          "data": {
            "text/html": [
              "<div style=\"width:100%;\"><div style=\"position:relative;width:100%;height:0;padding-bottom:60%;\"><span style=\"color:#565656\">Make this Notebook Trusted to load map: File -> Trust Notebook</span><iframe src=\"about:blank\" style=\"position:absolute;width:100%;height:100%;left:0;top:0;border:none !important;\" data-html=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 onload=\"this.contentDocument.open();this.contentDocument.write(atob(this.getAttribute('data-html')));this.contentDocument.close();\" allowfullscreen webkitallowfullscreen mozallowfullscreen></iframe></div></div>"
            ],
            "text/plain": [
              "<folium.folium.Map at 0x7fb711dfab00>"
            ]
          },
          "metadata": {
            "tags": []
          },
          "execution_count": 25
        }
      ]
    },
    {
      "cell_type": "code",
      "metadata": {
        "colab": {
          "base_uri": "https://localhost:8080/",
          "height": 854
        },
        "id": "SsbbMQ7Ft7k4",
        "outputId": "3046d6bd-e2f7-425f-afa9-d4715b9fd206"
      },
      "source": [
        "folium.Marker([-34.592710, -58.388807], \n",
        "              popup='F it', \n",
        "              icon=folium.Icon(color='beige', icon='fas fa-american-sign-language-interpreting', prefix='fa' )\n",
        "              ).add_to(mapa)\n",
        "\n",
        "mapa\n",
        "\n"
      ],
      "execution_count": null,
      "outputs": [
        {
          "output_type": "execute_result",
          "data": {
            "text/html": [
              "<div style=\"width:100%;\"><div style=\"position:relative;width:100%;height:0;padding-bottom:60%;\"><span style=\"color:#565656\">Make this Notebook Trusted to load map: File -> Trust Notebook</span><iframe src=\"about:blank\" style=\"position:absolute;width:100%;height:100%;left:0;top:0;border:none !important;\" data-html=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 onload=\"this.contentDocument.open();this.contentDocument.write(atob(this.getAttribute('data-html')));this.contentDocument.close();\" allowfullscreen webkitallowfullscreen mozallowfullscreen></iframe></div></div>"
            ],
            "text/plain": [
              "<folium.folium.Map at 0x7fb711dfab00>"
            ]
          },
          "metadata": {
            "tags": []
          },
          "execution_count": 26
        }
      ]
    },
    {
      "cell_type": "code",
      "metadata": {
        "colab": {
          "base_uri": "https://localhost:8080/",
          "height": 191
        },
        "id": "s_KCZmnDt7k4",
        "outputId": "49c803de-d990-4efd-feb6-7664fb802098"
      },
      "source": [
        "df.head(2)"
      ],
      "execution_count": null,
      "outputs": [
        {
          "output_type": "execute_result",
          "data": {
            "text/html": [
              "<div>\n",
              "<style scoped>\n",
              "    .dataframe tbody tr th:only-of-type {\n",
              "        vertical-align: middle;\n",
              "    }\n",
              "\n",
              "    .dataframe tbody tr th {\n",
              "        vertical-align: top;\n",
              "    }\n",
              "\n",
              "    .dataframe thead th {\n",
              "        text-align: right;\n",
              "    }\n",
              "</style>\n",
              "<table border=\"1\" class=\"dataframe\">\n",
              "  <thead>\n",
              "    <tr style=\"text-align: right;\">\n",
              "      <th></th>\n",
              "      <th>station_id</th>\n",
              "      <th>name</th>\n",
              "      <th>physical_configuration</th>\n",
              "      <th>lat</th>\n",
              "      <th>lon</th>\n",
              "      <th>altitude</th>\n",
              "      <th>address</th>\n",
              "      <th>post_code</th>\n",
              "      <th>capacity</th>\n",
              "      <th>rental_methods</th>\n",
              "      <th>groups</th>\n",
              "      <th>obcn</th>\n",
              "      <th>nearby_distance</th>\n",
              "      <th>cross_street</th>\n",
              "    </tr>\n",
              "  </thead>\n",
              "  <tbody>\n",
              "    <tr>\n",
              "      <th>0</th>\n",
              "      <td>2</td>\n",
              "      <td>002 - Retiro I</td>\n",
              "      <td>SMARTLITMAPFRAME</td>\n",
              "      <td>-34.592423</td>\n",
              "      <td>-58.374715</td>\n",
              "      <td>0.0</td>\n",
              "      <td>Ramos Mejia, Jose Maria, Dr. Av. &amp; Del Liberta...</td>\n",
              "      <td>11111</td>\n",
              "      <td>20</td>\n",
              "      <td>[KEY, TRANSITCARD, PHONE]</td>\n",
              "      <td>[RETIRO]</td>\n",
              "      <td></td>\n",
              "      <td>1000.0</td>\n",
              "      <td>NaN</td>\n",
              "    </tr>\n",
              "    <tr>\n",
              "      <th>1</th>\n",
              "      <td>3</td>\n",
              "      <td>003 - ADUANA</td>\n",
              "      <td>SMARTLITMAPFRAME</td>\n",
              "      <td>-34.611032</td>\n",
              "      <td>-58.368260</td>\n",
              "      <td>0.0</td>\n",
              "      <td>Moreno &amp; Av Paseo Colon</td>\n",
              "      <td>11111</td>\n",
              "      <td>20</td>\n",
              "      <td>[KEY, TRANSITCARD, PHONE]</td>\n",
              "      <td>[MONSERRAT]</td>\n",
              "      <td>NaN</td>\n",
              "      <td>1000.0</td>\n",
              "      <td>Moreno &amp; Av Paseo Colon</td>\n",
              "    </tr>\n",
              "  </tbody>\n",
              "</table>\n",
              "</div>"
            ],
            "text/plain": [
              "  station_id            name  ... nearby_distance             cross_street\n",
              "0          2  002 - Retiro I  ...          1000.0                      NaN\n",
              "1          3    003 - ADUANA  ...          1000.0  Moreno & Av Paseo Colon\n",
              "\n",
              "[2 rows x 14 columns]"
            ]
          },
          "metadata": {
            "tags": []
          },
          "execution_count": 27
        }
      ]
    },
    {
      "cell_type": "code",
      "metadata": {
        "colab": {
          "base_uri": "https://localhost:8080/",
          "height": 854
        },
        "id": "6grKlwBVt7k4",
        "outputId": "7943404f-9191-471f-f17c-6450280a8efe"
      },
      "source": [
        "mapa = folium.Map(location=[-34.592423, -58.374715], zoom_start=11)\n",
        "\n",
        "for i in range(0, df.shape[0]):\n",
        "  folium.Marker([df.loc[i,'lat'], df.loc[i, 'lon']], popup=df.loc[i,'name']).add_to(mapa)\n",
        "\n",
        "mapa"
      ],
      "execution_count": null,
      "outputs": [
        {
          "output_type": "execute_result",
          "data": {
            "text/html": [
              "<div style=\"width:100%;\"><div style=\"position:relative;width:100%;height:0;padding-bottom:60%;\"><span style=\"color:#565656\">Make this Notebook Trusted to load map: File -> Trust Notebook</span><iframe src=\"about:blank\" style=\"position:absolute;width:100%;height:100%;left:0;top:0;border:none !important;\" data-html=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 onload=\"this.contentDocument.open();this.contentDocument.write(atob(this.getAttribute('data-html')));this.contentDocument.close();\" allowfullscreen webkitallowfullscreen mozallowfullscreen></iframe></div></div>"
            ],
            "text/plain": [
              "<folium.folium.Map at 0x7fb711db22e8>"
            ]
          },
          "metadata": {
            "tags": []
          },
          "execution_count": 28
        }
      ]
    },
    {
      "cell_type": "code",
      "metadata": {
        "colab": {
          "base_uri": "https://localhost:8080/"
        },
        "id": "x0xrbUcpt7k4",
        "outputId": "0967abb9-cbd4-4f0f-d6e4-b1d44cb4aa34"
      },
      "source": [
        "tupla = ((-34.592423, -58.374715, 1),(-34.629083,-58.463251, 1))\n",
        "type(tupla)"
      ],
      "execution_count": null,
      "outputs": [
        {
          "output_type": "execute_result",
          "data": {
            "text/plain": [
              "tuple"
            ]
          },
          "metadata": {
            "tags": []
          },
          "execution_count": 29
        }
      ]
    },
    {
      "cell_type": "code",
      "metadata": {
        "colab": {
          "base_uri": "https://localhost:8080/",
          "height": 854
        },
        "id": "ZlWw4ji-t7k4",
        "outputId": "22c11379-98d9-48dd-cf7b-1da304ff9ecb"
      },
      "source": [
        "mapa = folium.Map(location=[-34.592423, -58.374715], zoom_start=11)\n",
        "mapa_calor = HeatMap(list(tupla)).add_to(mapa)\n",
        "mapa"
      ],
      "execution_count": null,
      "outputs": [
        {
          "output_type": "execute_result",
          "data": {
            "text/html": [
              "<div style=\"width:100%;\"><div style=\"position:relative;width:100%;height:0;padding-bottom:60%;\"><span style=\"color:#565656\">Make this Notebook Trusted to load map: File -> Trust Notebook</span><iframe src=\"about:blank\" style=\"position:absolute;width:100%;height:100%;left:0;top:0;border:none !important;\" data-html=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 onload=\"this.contentDocument.open();this.contentDocument.write(atob(this.getAttribute('data-html')));this.contentDocument.close();\" allowfullscreen webkitallowfullscreen mozallowfullscreen></iframe></div></div>"
            ],
            "text/plain": [
              "<folium.folium.Map at 0x7fb711db2240>"
            ]
          },
          "metadata": {
            "tags": []
          },
          "execution_count": 30
        }
      ]
    },
    {
      "cell_type": "code",
      "metadata": {
        "colab": {
          "base_uri": "https://localhost:8080/",
          "height": 191
        },
        "id": "X6Q2dUVzt7k4",
        "outputId": "8075424a-c4b8-401f-e781-248c2f6d7459"
      },
      "source": [
        "df_head=df.head(2).copy()\n",
        "df_head"
      ],
      "execution_count": null,
      "outputs": [
        {
          "output_type": "execute_result",
          "data": {
            "text/html": [
              "<div>\n",
              "<style scoped>\n",
              "    .dataframe tbody tr th:only-of-type {\n",
              "        vertical-align: middle;\n",
              "    }\n",
              "\n",
              "    .dataframe tbody tr th {\n",
              "        vertical-align: top;\n",
              "    }\n",
              "\n",
              "    .dataframe thead th {\n",
              "        text-align: right;\n",
              "    }\n",
              "</style>\n",
              "<table border=\"1\" class=\"dataframe\">\n",
              "  <thead>\n",
              "    <tr style=\"text-align: right;\">\n",
              "      <th></th>\n",
              "      <th>station_id</th>\n",
              "      <th>name</th>\n",
              "      <th>physical_configuration</th>\n",
              "      <th>lat</th>\n",
              "      <th>lon</th>\n",
              "      <th>altitude</th>\n",
              "      <th>address</th>\n",
              "      <th>post_code</th>\n",
              "      <th>capacity</th>\n",
              "      <th>rental_methods</th>\n",
              "      <th>groups</th>\n",
              "      <th>obcn</th>\n",
              "      <th>nearby_distance</th>\n",
              "      <th>cross_street</th>\n",
              "    </tr>\n",
              "  </thead>\n",
              "  <tbody>\n",
              "    <tr>\n",
              "      <th>0</th>\n",
              "      <td>2</td>\n",
              "      <td>002 - Retiro I</td>\n",
              "      <td>SMARTLITMAPFRAME</td>\n",
              "      <td>-34.592423</td>\n",
              "      <td>-58.374715</td>\n",
              "      <td>0.0</td>\n",
              "      <td>Ramos Mejia, Jose Maria, Dr. Av. &amp; Del Liberta...</td>\n",
              "      <td>11111</td>\n",
              "      <td>20</td>\n",
              "      <td>[KEY, TRANSITCARD, PHONE]</td>\n",
              "      <td>[RETIRO]</td>\n",
              "      <td></td>\n",
              "      <td>1000.0</td>\n",
              "      <td>NaN</td>\n",
              "    </tr>\n",
              "    <tr>\n",
              "      <th>1</th>\n",
              "      <td>3</td>\n",
              "      <td>003 - ADUANA</td>\n",
              "      <td>SMARTLITMAPFRAME</td>\n",
              "      <td>-34.611032</td>\n",
              "      <td>-58.368260</td>\n",
              "      <td>0.0</td>\n",
              "      <td>Moreno &amp; Av Paseo Colon</td>\n",
              "      <td>11111</td>\n",
              "      <td>20</td>\n",
              "      <td>[KEY, TRANSITCARD, PHONE]</td>\n",
              "      <td>[MONSERRAT]</td>\n",
              "      <td>NaN</td>\n",
              "      <td>1000.0</td>\n",
              "      <td>Moreno &amp; Av Paseo Colon</td>\n",
              "    </tr>\n",
              "  </tbody>\n",
              "</table>\n",
              "</div>"
            ],
            "text/plain": [
              "  station_id            name  ... nearby_distance             cross_street\n",
              "0          2  002 - Retiro I  ...          1000.0                      NaN\n",
              "1          3    003 - ADUANA  ...          1000.0  Moreno & Av Paseo Colon\n",
              "\n",
              "[2 rows x 14 columns]"
            ]
          },
          "metadata": {
            "tags": []
          },
          "execution_count": 31
        }
      ]
    },
    {
      "cell_type": "code",
      "metadata": {
        "colab": {
          "base_uri": "https://localhost:8080/"
        },
        "id": "kqiN8_URt7k4",
        "outputId": "16b9b94f-9dce-434f-987d-e0a4bbc07360"
      },
      "source": [
        "list(zip(df_head['lat'], df_head['lon']))"
      ],
      "execution_count": null,
      "outputs": [
        {
          "output_type": "execute_result",
          "data": {
            "text/plain": [
              "[(-34.5924233, -58.3747151), (-34.611032, -58.3682604)]"
            ]
          },
          "metadata": {
            "tags": []
          },
          "execution_count": 32
        }
      ]
    },
    {
      "cell_type": "code",
      "metadata": {
        "colab": {
          "base_uri": "https://localhost:8080/",
          "height": 854
        },
        "id": "yafOiweRt7k4",
        "outputId": "de36bdd1-0742-4d4b-9123-1626993ebb3e"
      },
      "source": [
        "df['valor'] = 1\n",
        "\n",
        "mapa = folium.Map(location=[-34.592423, -58.374715], zoom_start=11)\n",
        "mapa_calor = HeatMap(list(zip(df['lat'], \n",
        "                              df['lon'],\n",
        "                              df['valor'])), \n",
        "                              \n",
        ").add_to(mapa)\n",
        "\n",
        "mapa"
      ],
      "execution_count": null,
      "outputs": [
        {
          "output_type": "execute_result",
          "data": {
            "text/html": [
              "<div style=\"width:100%;\"><div style=\"position:relative;width:100%;height:0;padding-bottom:60%;\"><span style=\"color:#565656\">Make this Notebook Trusted to load map: File -> Trust Notebook</span><iframe src=\"about:blank\" style=\"position:absolute;width:100%;height:100%;left:0;top:0;border:none !important;\" data-html=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 onload=\"this.contentDocument.open();this.contentDocument.write(atob(this.getAttribute('data-html')));this.contentDocument.close();\" allowfullscreen webkitallowfullscreen mozallowfullscreen></iframe></div></div>"
            ],
            "text/plain": [
              "<folium.folium.Map at 0x7fb711bc8240>"
            ]
          },
          "metadata": {
            "tags": []
          },
          "execution_count": 33
        }
      ]
    }
  ]
}